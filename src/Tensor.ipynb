{
 "cells": [
  {
   "cell_type": "code",
   "execution_count": 2,
   "id": "62c92fcd",
   "metadata": {},
   "outputs": [],
   "source": [
    "import torch\n",
    "import numpy as np"
   ]
  },
  {
   "cell_type": "markdown",
   "id": "d1aa1143",
   "metadata": {},
   "source": [
    "# Tensorとは？\n",
    "- 多次元配列を扱うためのデータ構造\n",
    "- Numpyのndarrayとほぼ同様のAPIを有しており、GPUによる計算もサポートしている\n",
    "- PyTorchにおいてテンソルはGPU上でも使用できるため、処理速度の向上させることも可能"
   ]
  },
  {
   "cell_type": "markdown",
   "id": "d648c709",
   "metadata": {},
   "source": [
    "## Tensorの初期化"
   ]
  },
  {
   "cell_type": "code",
   "execution_count": 3,
   "id": "d9e260eb",
   "metadata": {},
   "outputs": [
    {
     "name": "stdout",
     "output_type": "stream",
     "text": [
      "tensor([[-5.1887e+01,  3.0642e-41, -5.2364e+01,  3.0642e-41,  8.9683e-44],\n",
      "        [ 0.0000e+00,  1.1210e-43,  0.0000e+00, -5.2122e+01,  3.0642e-41],\n",
      "        [ 2.8026e-45,  0.0000e+00,  2.8026e-45,  0.0000e+00,  4.2039e-45]])\n",
      "tensor([[0.4859, 0.5184, 0.3040, 0.4576, 0.8065],\n",
      "        [0.8655, 0.4487, 0.7136, 0.1736, 0.7559],\n",
      "        [0.7717, 0.6424, 0.2221, 0.6960, 0.4995]])\n",
      "tensor([5.5000, 3.0000])\n",
      "tensor([[0., 0., 0., 0., 0.],\n",
      "        [0., 0., 0., 0., 0.],\n",
      "        [0., 0., 0., 0., 0.]])\n",
      "tensor([[1, 1, 1, 1, 1],\n",
      "        [1, 1, 1, 1, 1],\n",
      "        [1, 1, 1, 1, 1]])\n",
      "Datatype of tensor : torch.int64\n",
      "tensor([[0.6474, 0.2102, 0.1128, 0.1296, 0.5212],\n",
      "        [0.3053, 0.5340, 0.5268, 0.8027, 0.7459],\n",
      "        [0.8784, 0.7537, 0.0932, 0.2859, 0.9485]])\n",
      "Using cpu device\n",
      "Device tensor is store on : cpu\n",
      "tensor([0, 1, 2, 3, 4, 5, 6, 7, 8, 9])\n"
     ]
    }
   ],
   "source": [
    "# 初期化されていない行列の作成\n",
    "print(torch.empty(3, 5))\n",
    "\n",
    "# 乱数によって初期化された行列の作成\n",
    "print(torch.rand(3, 5))\n",
    "\n",
    "# 数値を指定した行列の作成\n",
    "print(torch.tensor([5.5, 3]))\n",
    "\n",
    "# 数値0で初期化された行列の作成\n",
    "print(torch.zeros(3, 5))\n",
    "\n",
    "# long型の数値1で初期化された行列の作成\n",
    "print(torch.ones(3, 5, dtype = torch.long))\n",
    "\n",
    "# データタイプの確認\n",
    "print(f\"Datatype of tensor : {torch.ones(3, 5, dtype = torch.long).dtype}\")\n",
    "\n",
    "# deviceを指定することで CPU or GPU 上にTensorを作成する\n",
    "print(torch.rand(3, 5, device=\"cpu\"))\n",
    "\n",
    "# GPUが使用可能か確認する\n",
    "device = \"cuda\" if torch.cuda.is_available() else \"cpu\"\n",
    "print(f\"Using {device} device\")\n",
    "\n",
    "# GPUが使用可能であれば、GPU上にtensorを移動させる\n",
    "tensor = torch.rand(3, 5)\n",
    "if torch.cuda.is_available():\n",
    "    tensor = tensor.to(device)\n",
    "\n",
    "# Tensorがどこに格納されているか確認\n",
    "print(f\"Device tensor is store on : {tensor.device}\")\n",
    "\n",
    "# 0～9までの値で初期化された1次元行列の作成\n",
    "print(torch.arange(0, 10))"
   ]
  },
  {
   "cell_type": "markdown",
   "id": "0c7b8b43",
   "metadata": {},
   "source": [
    "## ndarrayとTensorの変換\n",
    "注：変換前の行列の値を変更すると、変更後の行列も値が変化する"
   ]
  },
  {
   "cell_type": "code",
   "execution_count": 3,
   "id": "e12d7200",
   "metadata": {},
   "outputs": [
    {
     "name": "stdout",
     "output_type": "stream",
     "text": [
      "numpy : \n",
      "[[0.19423854 0.71500087 0.07401246]\n",
      " [0.16072899 0.36175    0.5611271 ]]\n",
      "tensor : \n",
      "tensor([[0.1942, 0.7150, 0.0740],\n",
      "        [0.1607, 0.3618, 0.5611]])\n"
     ]
    }
   ],
   "source": [
    "tensor = torch.rand(2, 3)\n",
    "# Tensor -> Numpy ndarray\n",
    "# 注：GPU上のtensorはCPU上に移動させる必要がある\n",
    "np_array = np.array(tensor)\n",
    "np_array = tensor.numpy()\n",
    "print(f\"numpy : \\n{np_array}\")\n",
    "\n",
    "# Numpy ndarray -> Tensor\n",
    "tensor = torch.from_numpy(np_array)\n",
    "print(f\"tensor : \\n{tensor}\")"
   ]
  },
  {
   "cell_type": "markdown",
   "id": "254e9461",
   "metadata": {},
   "source": [
    "## Tensorのインデンシング操作"
   ]
  },
  {
   "cell_type": "code",
   "execution_count": 4,
   "id": "5dec7490",
   "metadata": {},
   "outputs": [
    {
     "name": "stdout",
     "output_type": "stream",
     "text": [
      "tensor(0.0476)\n",
      "row(0) col(1) is value : 0.047623\n",
      "First row :  tensor([0.1933, 0.0476, 0.5052, 0.0042])\n",
      "First column :  tensor([0.1933, 0.4205, 0.3509, 0.8398])\n",
      "Last column  :  tensor([0.0042, 0.0306, 0.5422, 0.7232])\n",
      "tensor([[0.1933, 0.0476],\n",
      "        [0.4205, 0.9301],\n",
      "        [0.3509, 0.9534],\n",
      "        [0.8398, 0.7210]])\n",
      "tensor([[0.0476, 0.5052],\n",
      "        [0.9301, 0.6571],\n",
      "        [0.9534, 0.5824],\n",
      "        [0.7210, 0.1559]])\n",
      "tensor([0.5052, 0.9301, 0.6571, 0.9534, 0.5824, 0.5422, 0.8398, 0.7210, 0.7232])\n",
      "tensor([[1.9328e-01, 1.0000e+02, 5.0520e-01, 2.0000e+02],\n",
      "        [4.2051e-01, 9.3013e-01, 6.5712e-01, 2.0000e+02],\n",
      "        [3.5090e-01, 9.5337e-01, 5.8236e-01, 2.0000e+02],\n",
      "        [8.3984e-01, 7.2103e-01, 1.5589e-01, 2.0000e+02]])\n",
      "tensor([[0.1933, 1.0000, 1.0000, 1.0000],\n",
      "        [0.4205, 1.0000, 1.0000, 1.0000],\n",
      "        [0.3509, 1.0000, 1.0000, 1.0000],\n",
      "        [1.0000, 1.0000, 0.1559, 1.0000]])\n"
     ]
    }
   ],
   "source": [
    "tensor = torch.rand(4, 4)\n",
    "# インデックスを指定\n",
    "print(tensor[0, 1])\n",
    "\n",
    "# 中の値だけの取り出し\n",
    "print(f\"row(%d) col(%d) is value : %f\" % (0, 1, tensor[0, 1].item()))\n",
    "\n",
    "# 行の取り出し\n",
    "print(\"First row : \", tensor[0, :])\n",
    "\n",
    "# 列の取り出し\n",
    "print(\"First column : \", tensor[:, 0])\n",
    "print(\"Last column  : \", tensor[:, -1])\n",
    "\n",
    "# スライスでの取り出し\n",
    "print(tensor[:, :2])\n",
    "print(tensor[:, [1, 2]])\n",
    "\n",
    "# マスク配列を使用して特定の値より大きい部分のみを選択\n",
    "print(tensor[tensor > 0.5])\n",
    "\n",
    "# インデックス・スライスを使用した一括代入\n",
    "tensor[0, 1] = 100\n",
    "tensor[:, -1] = 200\n",
    "print(tensor)\n",
    "\n",
    "# 特定条件の要素のみ置換\n",
    "tensor[tensor > 0.5] = 1\n",
    "print(tensor)"
   ]
  },
  {
   "cell_type": "markdown",
   "id": "cc81ea8d",
   "metadata": {},
   "source": [
    "## Tensorのサイズ操作"
   ]
  },
  {
   "cell_type": "code",
   "execution_count": 5,
   "id": "92d6b368",
   "metadata": {},
   "outputs": [
    {
     "name": "stdout",
     "output_type": "stream",
     "text": [
      "torch.Size([2, 8])\n",
      "tensor([[0.4375, 0.4516, 0.2099, 0.3314, 0.4738, 0.3070, 0.1880, 0.8082],\n",
      "        [0.1690, 0.1615, 0.2863, 0.6514, 0.3008, 0.8939, 0.0750, 0.3007]])\n",
      "tensor([[0.4375, 0.4516, 0.2099, 0.3314, 0.4738, 0.3070, 0.1880, 0.8082, 0.1690,\n",
      "         0.1615, 0.2863, 0.6514, 0.3008, 0.8939, 0.0750, 0.3007]])\n",
      "tensor([[0.4375, 0.4516, 0.2099, 0.3314],\n",
      "        [0.4738, 0.3070, 0.1880, 0.8082],\n",
      "        [0.1690, 0.1615, 0.2863, 0.6514],\n",
      "        [0.3008, 0.8939, 0.0750, 0.3007]])\n",
      "tensor([[0.4375, 0.1690],\n",
      "        [0.4516, 0.1615],\n",
      "        [0.2099, 0.2863],\n",
      "        [0.3314, 0.6514],\n",
      "        [0.4738, 0.3008],\n",
      "        [0.3070, 0.8939],\n",
      "        [0.1880, 0.0750],\n",
      "        [0.8082, 0.3007]])\n",
      "tensor([[0.4375, 0.4516, 0.2099, 0.3314, 0.4738, 0.3070, 0.1880, 0.8082],\n",
      "        [0.1690, 0.1615, 0.2863, 0.6514, 0.3008, 0.8939, 0.0750, 0.3007],\n",
      "        [0.4375, 0.4516, 0.2099, 0.3314, 0.4738, 0.3070, 0.1880, 0.8082],\n",
      "        [0.1690, 0.1615, 0.2863, 0.6514, 0.3008, 0.8939, 0.0750, 0.3007]])\n"
     ]
    }
   ],
   "source": [
    "tensor = torch.rand(2, 8)\n",
    "# Tensorサイズ≒Tensorの形\n",
    "print(tensor.size())\n",
    "# リサイズ\n",
    "print(tensor)\n",
    "tensor1 = tensor.view(1, 16)\n",
    "print(tensor1)\n",
    "tensor2 = tensor.view(-1, 4) # -1を指定するとほかに指定した次元の値から自動で計算\n",
    "print(tensor2)\n",
    "\n",
    "# 転置\n",
    "print(tensor.t())\n",
    "\n",
    "# 結合\n",
    "print(torch.cat([tensor, tensor], dim = 0))"
   ]
  },
  {
   "cell_type": "markdown",
   "id": "9a440f0f",
   "metadata": {},
   "source": [
    "## Tensorの演算\n",
    "|演算子|説明|\n",
    "|:-----|:---|\n",
    "|dot|ベクトルの内積|\n",
    "|mv|行列とベクトルの積|\n",
    "|mm|行列と行列の積|\n",
    "|matmul|引数の種類によって自動的にdot, mv, mmを選択して実行|\n",
    "|gesv|LU分解による連立方程式の解|\n",
    "|eig, symeig|固有値分解（symeigは対称行列用のより効率の良いアルゴリズム）|\n",
    "|svd|特異値分解|"
   ]
  },
  {
   "cell_type": "markdown",
   "id": "29d91feb",
   "metadata": {},
   "source": [
    "### ベクトルの演算"
   ]
  },
  {
   "cell_type": "code",
   "execution_count": 6,
   "id": "425c9ceb",
   "metadata": {},
   "outputs": [
    {
     "name": "stdout",
     "output_type": "stream",
     "text": [
      "tensor([[5.1855, 5.7337, 5.6179]])\n",
      "tensor([[5.1855, 5.7337, 5.6179]])\n",
      "tensor([[5.1855, 5.7337, 5.6179]])\n",
      "tensor([[5.1855, 5.7337, 5.6179]])\n",
      "tensor([[26.8892, 32.8749, 31.5604]])\n",
      "tensor([[5.1900, 5.9354, 6.5618]])\n",
      "tensor([[57.8526, 63.2358, 61.7067]])\n"
     ]
    }
   ],
   "source": [
    "v1 = torch.rand([1, 3])\n",
    "v2 = torch.rand([1, 3])\n",
    "result = torch.zeros([1, 3])\n",
    "\n",
    "# ベクトルとスカラーの足し算\n",
    "print(v1 + 5)\n",
    "print(torch.add(v1, 5))\n",
    "print(torch.add(v1, 5, out = result)) # 出力先を引数で指定\n",
    "print(v1.add_(5)) # Tensorそのものの変更（ip-place：インプレース処理）\n",
    "\n",
    "# ベクトルの累乗\n",
    "print(v1 ** 2)\n",
    "\n",
    "# ベクトル同士の演算\n",
    "print(v1 + v2)\n",
    "\n",
    "# 複数の組み合わせ\n",
    "print(v1 * 10 - v2 / 2 + 6)"
   ]
  },
  {
   "cell_type": "markdown",
   "id": "701dd546",
   "metadata": {},
   "source": [
    "### 行列の演算"
   ]
  },
  {
   "cell_type": "code",
   "execution_count": 7,
   "id": "ed8a49ce",
   "metadata": {},
   "outputs": [
    {
     "name": "stdout",
     "output_type": "stream",
     "text": [
      "tensor([[1.0090, 0.1086, 1.7785],\n",
      "        [1.4376, 0.3305, 0.8539],\n",
      "        [0.5017, 1.0804, 1.8823],\n",
      "        [1.6531, 1.2929, 1.4507],\n",
      "        [0.0750, 0.5568, 0.9971]])\n",
      "tensor([[1.1462, 0.8558, 1.2800],\n",
      "        [1.3605, 0.9668, 0.8177],\n",
      "        [0.8925, 1.3417, 1.3319],\n",
      "        [1.4683, 1.4480, 1.1161],\n",
      "        [0.6792, 1.0799, 0.8893]])\n",
      "tensor([[0.5985, 0.4089, 0.9535],\n",
      "        [1.1478, 0.1737, 0.6832],\n",
      "        [0.3875, 1.2317, 1.7187],\n",
      "        [1.4826, 0.7051, 1.0883],\n",
      "        [0.7905, 1.1329, 0.9343]])\n",
      "tensor([[0.0474, 0.0193, 0.0571],\n",
      "        [0.3084, 0.0014, 0.1094],\n",
      "        [0.0343, 0.3736, 0.7318],\n",
      "        [0.5423, 0.0379, 0.2633],\n",
      "        [0.0282, 0.2379, 0.2172]])\n",
      "tensor([[0.1238, 0.4447, 0.7979, 0.6569, 0.8138],\n",
      "        [0.1536, 0.4191, 0.5445, 0.6362, 0.8685],\n",
      "        [0.2756, 0.3533, 1.1396, 0.5379, 1.0606],\n",
      "        [0.3535, 0.5459, 1.1240, 0.8435, 1.4909],\n",
      "        [0.1343, 0.1462, 0.5853, 0.2219, 0.4834]])\n"
     ]
    }
   ],
   "source": [
    "v = torch.rand(1, 3)\n",
    "x = torch.rand(5, 3)\n",
    "y = torch.rand(5, 3)\n",
    "result = torch.rand(5, 3)\n",
    "\n",
    "# 行列とスカラー\n",
    "print(x * 2.0)\n",
    "# 行列とベクトル\n",
    "print(x + v)\n",
    "# 行列同士\n",
    "print(x + y)\n",
    "print(x * y)\n",
    "print(x @ y.t())"
   ]
  },
  {
   "cell_type": "markdown",
   "id": "ac18cc82",
   "metadata": {},
   "source": [
    "### 数学関数"
   ]
  },
  {
   "cell_type": "code",
   "execution_count": 8,
   "id": "15c4c21a",
   "metadata": {},
   "outputs": [
    {
     "name": "stdout",
     "output_type": "stream",
     "text": [
      "tensor([0.5499, 0.3828, 0.4359, 0.3448, 0.2579])\n"
     ]
    }
   ],
   "source": [
    "X = torch.rand(3, 5)\n",
    "\n",
    "# 平均値\n",
    "m = torch.mean(X)\n",
    "m = X.mean()\n",
    "# 行ごとの平均値\n",
    "print(X.mean(0))"
   ]
  }
 ],
 "metadata": {
  "kernelspec": {
   "display_name": "Python 3 (ipykernel)",
   "language": "python",
   "name": "python3"
  },
  "language_info": {
   "codemirror_mode": {
    "name": "ipython",
    "version": 3
   },
   "file_extension": ".py",
   "mimetype": "text/x-python",
   "name": "python",
   "nbconvert_exporter": "python",
   "pygments_lexer": "ipython3",
   "version": "3.10.6"
  }
 },
 "nbformat": 4,
 "nbformat_minor": 5
}
