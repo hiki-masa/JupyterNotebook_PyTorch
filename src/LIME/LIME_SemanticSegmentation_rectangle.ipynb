{
 "cells": [
  {
   "cell_type": "code",
   "execution_count": 1,
   "id": "073e91f8",
   "metadata": {},
   "outputs": [],
   "source": [
    "%matplotlib inline\n",
    "import numpy as np\n",
    "import matplotlib.pyplot as plt\n",
    "import torch\n",
    "from torch import nn\n",
    "import torch.optim as optim\n",
    "import torch.nn.functional as F\n",
    "from torch.utils.data import Dataset, DataLoader\n",
    "from torchvision.datasets import MNIST\n",
    "\n",
    "from lime import lime_image\n",
    "from lime.wrappers.scikit_image import SegmentationAlgorithm\n",
    "from skimage.color import label2rgb"
   ]
  },
  {
   "cell_type": "code",
   "execution_count": 2,
   "id": "4fdf8fc9",
   "metadata": {},
   "outputs": [],
   "source": [
    "class SegmentationRectangle(Dataset):\n",
    "    def __init__(self, num):\n",
    "        super().__init__()\n",
    "        self.imgs = np.zeros([num, 1, 28, 28])\n",
    "        self.anos = np.zeros([num, 1, 28, 28])\n",
    "        for i in range(num):\n",
    "            img = np.zeros([28, 28])\n",
    "            ano = np.zeros([28, 28])\n",
    "            self.imgs[i, 0, :, :], self.anos[i, 0, :, :] = self.make_rectangle(img, ano, 14)\n",
    "        \n",
    "    def __len__(self):\n",
    "        return len(self.imgs)\n",
    "    \n",
    "    def __getitem__(self, index):\n",
    "        tensor_imgs = torch.tensor(self.imgs[index], dtype = torch.float32)\n",
    "        tensor_anos = torch.tensor(self.anos[index], dtype = torch.float32)\n",
    "        return tensor_imgs, tensor_anos\n",
    "    \n",
    "    def make_rectangle(self, img, ano, size):\n",
    "        for i in range(np.random.randint(1, 5)):\n",
    "            width  = np.random.randint(1, int(size))\n",
    "            height = np.random.randint(1, int(size))\n",
    "            x = np.random.randint(0, 28 - width)\n",
    "            y = np.random.randint(0, 28 - height)\n",
    "            img[x : x + width, y           ] = 1\n",
    "            img[x : x + width, y + height-1] = 1\n",
    "            img[x          , y : y + height] = 1\n",
    "            img[x + width-1, y : y + height] = 1\n",
    "            \n",
    "            ano[x : x + width, y : y + height] = 1\n",
    "        return img, ano"
   ]
  },
  {
   "cell_type": "code",
   "execution_count": 3,
   "id": "15e901e1",
   "metadata": {},
   "outputs": [
    {
     "data": {
      "image/png": "[encoded data removed]",
      "text/plain": [
       "<Figure size 576x576 with 2 Axes>"
      ]
     },
     "metadata": {
      "needs_background": "light"
     },
     "output_type": "display_data"
    }
   ],
   "source": [
    "train_data = SegmentationRectangle(10000)\n",
    "test_data  = SegmentationRectangle(1000)\n",
    "train_dataloader = DataLoader(train_data, batch_size = 64, shuffle = True)\n",
    "test_dataloader  = DataLoader(test_data,  batch_size = 64, shuffle = True)\n",
    "# 辞書型変数にまとめると学習・検証の実施時に扱いやすくなる\n",
    "dataloaders_dict = {\"train\" : train_dataloader, \"test\" : test_dataloader}\n",
    "# イテレータに変換\n",
    "batch_iterator = iter(dataloaders_dict[\"test\"])\n",
    "# 要素を取り出す\n",
    "imgs, anos = next(batch_iterator)\n",
    "# 画像表示\n",
    "figure = plt.figure(figsize = (8, 8))\n",
    "rows, cols = 2, 1\n",
    "# 画像\n",
    "figure.add_subplot(cols, rows, 1)\n",
    "plt.title(\"image\")\n",
    "plt.axis(\"off\")\n",
    "plt.imshow(imgs[0].squeeze().numpy(), cmap = \"gray\")\n",
    "# マスク画像\n",
    "figure.add_subplot(cols, rows, 2)\n",
    "plt.title(\"ano\")\n",
    "plt.axis(\"off\")\n",
    "plt.imshow(anos[0].squeeze().numpy(), cmap = \"gray\")\n",
    "plt.show()"
   ]
  },
  {
   "cell_type": "code",
   "execution_count": 4,
   "id": "bd7c2a0a",
   "metadata": {},
   "outputs": [],
   "source": [
    "class SimpleUNet(nn.Module):\n",
    "    def __init__(self, in_channels, num_classes):\n",
    "        super().__init__()\n",
    "        self.loss_train_log = []\n",
    "        self.loss_test_log = []\n",
    "        self.acc_train_log = []\n",
    "        self.acc_test_log = []\n",
    "        \n",
    "        # エンコーダー部\n",
    "        self.encoder = nn.ModuleList([\n",
    "            nn.Sequential(\n",
    "                nn.Conv2d(in_channels, 64, 3, stride = 1, padding = 1), # [N, 64, 28, 28]\n",
    "                nn.ReLU(inplace = True),\n",
    "\n",
    "                nn.Conv2d(64, 64, 3, stride = 1, padding = 1, bias = False), # [N, 64, 28, 28]\n",
    "                nn.BatchNorm2d(64),\n",
    "                nn.ReLU(inplace = True)\n",
    "            ),\n",
    "            nn.Sequential(\n",
    "                nn.MaxPool2d(2),\n",
    "                \n",
    "                nn.Conv2d(64, 128, 3, stride = 1, padding = 1, bias = False), # [N, 128, 14, 14]\n",
    "                nn.BatchNorm2d(128),\n",
    "                nn.ReLU(inplace = True),\n",
    "                \n",
    "                nn.Conv2d(128, 128, 3, stride = 1, padding = 1, bias = False), # [N, 128, 14, 14]\n",
    "                nn.BatchNorm2d(128),\n",
    "                nn.ReLU(inplace = True)\n",
    "            )\n",
    "        ])\n",
    "        \n",
    "        # ボトルネック部\n",
    "        self.bottle_neck = nn.Sequential(\n",
    "            nn.MaxPool2d(2),\n",
    "            \n",
    "            nn.Conv2d(128, 256, 3, stride = 1, padding = 1, bias = False), # [N, 256, 7, 7]\n",
    "            nn.BatchNorm2d(256),\n",
    "            nn.ReLU(inplace = True),\n",
    "            \n",
    "            nn.Conv2d(256, 256, 3, stride = 1, padding = 1, bias = False), # [N, 256, 7, 7]\n",
    "            nn.BatchNorm2d(256),\n",
    "            nn.ReLU(inplace = True),\n",
    "            \n",
    "            nn.Upsample(scale_factor = 2, mode = \"bilinear\", align_corners = False) # [N, 256, 14, 14]\n",
    "        )\n",
    "        \n",
    "        # デコーダー部\n",
    "        self.decoder = nn.ModuleList([\n",
    "            nn.Sequential(\n",
    "                nn.Conv2d(128 + 256, 128, 3, stride = 1, padding = 1, bias = False), # [N, 128, 14, 14]\n",
    "                nn.BatchNorm2d(128),\n",
    "                nn.ReLU(inplace = True),\n",
    "                \n",
    "                nn.Conv2d(128, 128, 3, stride = 1, padding = 1, bias = False), # [N, 128, 14, 14]\n",
    "                nn.BatchNorm2d(128),\n",
    "                nn.ReLU(inplace = True),\n",
    "                \n",
    "                nn.Upsample(scale_factor = 2, mode = \"bilinear\", align_corners = False) # [N, 128, 28, 28]\n",
    "            ),\n",
    "            nn.Sequential(\n",
    "                nn.Conv2d(64 + 128, 64, 3, stride = 1, padding = 1, bias = False), # [N, 64, 28, 28]\n",
    "                nn.BatchNorm2d(64),\n",
    "                nn.ReLU(inplace = True),\n",
    "                \n",
    "                nn.Conv2d(64, 64, 3, stride = 1, padding = 1, bias = False), # [N, 64, 28, 28]\n",
    "                nn.BatchNorm2d(64),\n",
    "                nn.ReLU(inplace = True),\n",
    "                \n",
    "                nn.Conv2d(64, num_classes, 1, stride = 1, padding = 0) # [N, 11, 28, 28]\n",
    "            )\n",
    "        ])\n",
    "        \n",
    "        # 誤差関数の設定\n",
    "        self.loss = nn.MSELoss() \n",
    "        # 最適化手法の設定\n",
    "        self.optimizer = optim.Adam(self.parameters(), lr = 1e-2)\n",
    "    \n",
    "    def forward(self, x):\n",
    "        h_list = [] # 特徴マップを格納するリスト\n",
    "        for block in self.encoder:\n",
    "            x = block(x)\n",
    "            h_list.append(x)\n",
    "        \n",
    "        x = self.bottle_neck(x)\n",
    "        \n",
    "        for h, block in zip(h_list[::-1], self.decoder):\n",
    "            x = block(torch.cat([h, x], dim = 1))\n",
    "        \n",
    "        return x\n",
    "    \n",
    "model = torch.load(\"../../model/SemanticSegmentation-rectangle.pth\")"
   ]
  },
  {
   "cell_type": "code",
   "execution_count": 5,
   "id": "bbeebc9a",
   "metadata": {},
   "outputs": [
    {
     "data": {
      "image/png": "[encoded data removed]",
      "text/plain": [
       "<Figure size 576x576 with 3 Axes>"
      ]
     },
     "metadata": {
      "needs_background": "light"
     },
     "output_type": "display_data"
    }
   ],
   "source": [
    "idx = torch.randint(low = 0, high = len(imgs), size = (1, 1)).item()\n",
    "img, ano = imgs[idx], anos[idx]\n",
    "# 画像表示\n",
    "figure = plt.figure(figsize = (8, 8))\n",
    "rows, cols = 3, 1\n",
    "# 画像\n",
    "figure.add_subplot(cols, rows, 1)\n",
    "plt.title(\"image\")\n",
    "plt.axis(\"off\")\n",
    "plt.imshow(img.squeeze().numpy(), cmap = \"gray\")\n",
    "# アノテーション画像\n",
    "figure.add_subplot(cols, rows, 2)\n",
    "plt.title(\"ano\")\n",
    "plt.axis(\"off\")\n",
    "plt.imshow(ano.squeeze().numpy(), cmap = \"gray\")\n",
    "# 予測画像\n",
    "figure.add_subplot(cols, rows, 3)\n",
    "plt.title(\"predict\")\n",
    "plt.axis(\"off\")\n",
    "plt.imshow(model(imgs)[idx][0].detach().numpy(), cmap = \"gray\")\n",
    "plt.show()"
   ]
  },
  {
   "cell_type": "code",
   "execution_count": 6,
   "id": "e2e77b4b",
   "metadata": {},
   "outputs": [],
   "source": [
    "def batch_predict(np_rgb_imgs):\n",
    "    np_imgs = np.zeros((len(np_rgb_imgs), 1, 28, 28))\n",
    "    for i, np_rgb_img in enumerate(np_rgb_imgs):\n",
    "        np_imgs[i, 0, :, :] = (np_rgb_img[:, :, 0] + np_rgb_img[:, :, 1] + np_rgb_img[:, :, 2]) / 3\n",
    "    y = model(torch.from_numpy(np_imgs).to(torch.float32))\n",
    "    np_y = np.zeros((len(np_rgb_imgs), 2, 28, 28))\n",
    "    np_y[:, 0, :, :], np_y[:, 1, :, :] = 1 - y.detach().numpy()[:, 0, :, :],y.detach().numpy()[:, 0, :, :]\n",
    "    return np_y[:, :, 0, 0]"
   ]
  },
  {
   "cell_type": "code",
   "execution_count": 7,
   "id": "4db97eab",
   "metadata": {
    "scrolled": false
   },
   "outputs": [
    {
     "data": {
      "application/vnd.jupyter.widget-view+json": {
       "model_id": "d5a9c003e43d41c3a8279576bc0f9d88",
       "version_major": 2,
       "version_minor": 0
      },
      "text/plain": [
       "  0%|          | 0/10000 [00:00<?, ?it/s]"
      ]
     },
     "metadata": {},
     "output_type": "display_data"
    }
   ],
   "source": [
    "#imgs, labels = next(iter(dataloaders_dict[\"test\"]))\n",
    "explainer = lime_image.LimeImageExplainer()\n",
    "segmenter = SegmentationAlgorithm('quickshift', kernel_size=1, max_dist=200, ratio=0.2)\n",
    "explanation = explainer.explain_instance(image = imgs[idx].squeeze().numpy(),\n",
    "                                         classifier_fn = batch_predict,\n",
    "                                         top_labels=2,\n",
    "                                         hide_color=0,\n",
    "                                         num_samples=10000,\n",
    "                                         segmentation_fn=segmenter\n",
    ")"
   ]
  },
  {
   "cell_type": "code",
   "execution_count": 8,
   "id": "843f1271",
   "metadata": {},
   "outputs": [
    {
     "data": {
      "image/png": "[encoded data removed]",
      "text/plain": [
       "<Figure size 576x288 with 1 Axes>"
      ]
     },
     "metadata": {
      "needs_background": "light"
     },
     "output_type": "display_data"
    }
   ],
   "source": [
    "temp, mask = explanation.get_image_and_mask(0, positive_only=True, num_features=4, hide_rest=False)\n",
    "fig, (ax1) = plt.subplots(1, 1, figsize = (8, 4))\n",
    "ax1.imshow(label2rgb(mask, temp, bg_label = 0), interpolation = 'nearest')\n",
    "plt.show()"
   ]
  }
 ],
 "metadata": {
  "kernelspec": {
   "display_name": "Python 3 (ipykernel)",
   "language": "python",
   "name": "python3"
  },
  "language_info": {
   "codemirror_mode": {
    "name": "ipython",
    "version": 3
   },
   "file_extension": ".py",
   "mimetype": "text/x-python",
   "name": "python",
   "nbconvert_exporter": "python",
   "pygments_lexer": "ipython3",
   "version": "3.10.6"
  }
 },
 "nbformat": 4,
 "nbformat_minor": 5
}
