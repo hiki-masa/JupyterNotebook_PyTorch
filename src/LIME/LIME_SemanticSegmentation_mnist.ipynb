{
 "cells": [
  {
   "cell_type": "code",
   "execution_count": 1,
   "id": "39fd0f73",
   "metadata": {},
   "outputs": [],
   "source": [
    "%matplotlib inline\n",
    "import numpy as np\n",
    "import matplotlib.pyplot as plt\n",
    "import torch\n",
    "from torch import nn\n",
    "import torch.optim as optim\n",
    "import torch.nn.functional as F\n",
    "from torch.utils.data import Dataset, DataLoader\n",
    "from torchvision.datasets import MNIST\n",
    "\n",
    "from lime import lime_image\n",
    "from lime.wrappers.scikit_image import SegmentationAlgorithm\n",
    "from skimage.color import label2rgb"
   ]
  },
  {
   "cell_type": "code",
   "execution_count": 2,
   "id": "67b4c4db",
   "metadata": {},
   "outputs": [],
   "source": [
    "def set_color(segmentation_image):\n",
    "    rgb_image = np.zeros((28, 28, 3), np.uint8)\n",
    "    for x, ps in enumerate(segmentation_image):\n",
    "        for y, p in enumerate(ps):\n",
    "            p = p - 1\n",
    "            if p == 0:\n",
    "                rgb_image[x, y, :] = [127, 127, 127]\n",
    "            if p == 1:\n",
    "                rgb_image[x, y, :] = [255,   0,   0]\n",
    "            if p == 2:\n",
    "                rgb_image[x, y, :] = [  0, 255,   0]\n",
    "            if p == 3:\n",
    "                rgb_image[x, y, :] = [  0,   0, 255]\n",
    "            if p == 4:\n",
    "                rgb_image[x, y, :] = [255, 255,   0]\n",
    "            if p == 5:\n",
    "                rgb_image[x, y, :] = [  0, 255, 255]\n",
    "            if p == 6:\n",
    "                rgb_image[x, y, :] = [255,   0, 255]\n",
    "            if p == 7:\n",
    "                rgb_image[x, y, :] = [127, 127,   0]\n",
    "            if p == 8:\n",
    "                rgb_image[x, y, :] = [  0, 127, 127]\n",
    "            if p == 9:\n",
    "                rgb_image[x, y, :] = [127,   0, 127]\n",
    "    return rgb_image"
   ]
  },
  {
   "cell_type": "code",
   "execution_count": 3,
   "id": "ce7cfe15",
   "metadata": {},
   "outputs": [],
   "source": [
    "class SegmentationMNIST(Dataset):\n",
    "    def __init__(self, root, train, threshold):\n",
    "        super().__init__()\n",
    "        self.mnist = MNIST(root = root, train = train)\n",
    "        self.threshold = threshold\n",
    "        \n",
    "    def __len__(self):\n",
    "        return len(self.mnist)\n",
    "    \n",
    "    def __getitem__(self, index):\n",
    "        np_image = np.zeros((1, 28, 28), np.uint8)\n",
    "        np_mask  = np.zeros((1, 28, 28), np.uint8)\n",
    "        np_image[0, :, :], label = self.mnist[index]\n",
    "        np_mask[0, :, :]  = np.where(np_image > self.threshold, label + 1, 0) # 背景クラスを0に設定\n",
    "        torch_image = torch.from_numpy(np_image / 255).to(torch.float32)\n",
    "        torch_mask  = torch.from_numpy(np_mask).to(torch.long)\n",
    "        return torch_image, torch_mask"
   ]
  },
  {
   "cell_type": "code",
   "execution_count": 4,
   "id": "999faabb",
   "metadata": {},
   "outputs": [
    {
     "data": {
      "image/png": "[encoded data removed]",
      "text/plain": [
       "<Figure size 576x576 with 2 Axes>"
      ]
     },
     "metadata": {
      "needs_background": "light"
     },
     "output_type": "display_data"
    }
   ],
   "source": [
    "train_data = SegmentationMNIST(root = \"../../data\", train = True,  threshold = 127)\n",
    "test_data  = SegmentationMNIST(root = \"../../data\", train = False, threshold = 127)\n",
    "train_dataloader = DataLoader(train_data, batch_size = 64, shuffle = True)\n",
    "test_dataloader  = DataLoader(test_data,  batch_size = 64, shuffle = True)\n",
    "# 辞書型変数にまとめると学習・検証の実施時に扱いやすくなる\n",
    "dataloaders_dict = {\"train\" : train_dataloader, \"test\" : test_dataloader}\n",
    "# イテレータに変換\n",
    "batch_iterator = iter(dataloaders_dict[\"test\"])\n",
    "# 要素を取り出す\n",
    "imgs, masks = next(batch_iterator)\n",
    "# 画像表示\n",
    "figure = plt.figure(figsize = (8, 8))\n",
    "rows, cols = 2, 1\n",
    "# 画像\n",
    "figure.add_subplot(cols, rows, 1)\n",
    "plt.axis(\"off\")\n",
    "plt.imshow(imgs[0].squeeze().numpy(), cmap = \"gray\")\n",
    "# マスク画像\n",
    "figure.add_subplot(cols, rows, 2)\n",
    "plt.axis(\"off\")\n",
    "plt.imshow(set_color(masks[0].squeeze().numpy()), cmap = \"gray\")\n",
    "plt.show()"
   ]
  },
  {
   "cell_type": "code",
   "execution_count": 5,
   "id": "7a392494",
   "metadata": {},
   "outputs": [],
   "source": [
    "class SimpleUNet(nn.Module):\n",
    "    def __init__(self, in_channels, num_classes):\n",
    "        super().__init__()\n",
    "        self.loss_train_log = []\n",
    "        self.loss_test_log = []\n",
    "        self.acc_train_log = []\n",
    "        self.acc_test_log = []\n",
    "        \n",
    "        # エンコーダー部\n",
    "        self.encoder = nn.ModuleList([\n",
    "            nn.Sequential(\n",
    "                nn.Conv2d(in_channels, 64, 3, stride = 1, padding = 1), # [N, 64, 28, 28]\n",
    "                nn.ReLU(inplace = True),\n",
    "\n",
    "                nn.Conv2d(64, 64, 3, stride = 1, padding = 1, bias = False), # [N, 64, 28, 28]\n",
    "                nn.BatchNorm2d(64),\n",
    "                nn.ReLU(inplace = True)\n",
    "            ),\n",
    "            nn.Sequential(\n",
    "                nn.MaxPool2d(2),\n",
    "                \n",
    "                nn.Conv2d(64, 128, 3, stride = 1, padding = 1, bias = False), # [N, 128, 14, 14]\n",
    "                nn.BatchNorm2d(128),\n",
    "                nn.ReLU(inplace = True),\n",
    "                \n",
    "                nn.Conv2d(128, 128, 3, stride = 1, padding = 1, bias = False), # [N, 128, 14, 14]\n",
    "                nn.BatchNorm2d(128),\n",
    "                nn.ReLU(inplace = True)\n",
    "            )\n",
    "        ])\n",
    "        \n",
    "        # ボトルネック部\n",
    "        self.bottle_neck = nn.Sequential(\n",
    "            nn.MaxPool2d(2),\n",
    "            \n",
    "            nn.Conv2d(128, 256, 3, stride = 1, padding = 1, bias = False), # [N, 256, 7, 7]\n",
    "            nn.BatchNorm2d(256),\n",
    "            nn.ReLU(inplace = True),\n",
    "            \n",
    "            nn.Conv2d(256, 256, 3, stride = 1, padding = 1, bias = False), # [N, 256, 7, 7]\n",
    "            nn.BatchNorm2d(256),\n",
    "            nn.ReLU(inplace = True),\n",
    "            \n",
    "            nn.Upsample(scale_factor = 2, mode = \"bilinear\", align_corners = False) # [N, 256, 14, 14]\n",
    "        )\n",
    "        \n",
    "        # デコーダー部\n",
    "        self.decoder = nn.ModuleList([\n",
    "            nn.Sequential(\n",
    "                nn.Conv2d(128 + 256, 128, 3, stride = 1, padding = 1, bias = False), # [N, 128, 14, 14]\n",
    "                nn.BatchNorm2d(128),\n",
    "                nn.ReLU(inplace = True),\n",
    "                \n",
    "                nn.Conv2d(128, 128, 3, stride = 1, padding = 1, bias = False), # [N, 128, 14, 14]\n",
    "                nn.BatchNorm2d(128),\n",
    "                nn.ReLU(inplace = True),\n",
    "                \n",
    "                nn.Upsample(scale_factor = 2, mode = \"bilinear\", align_corners = False) # [N, 128, 28, 28]\n",
    "            ),\n",
    "            nn.Sequential(\n",
    "                nn.Conv2d(64 + 128, 64, 3, stride = 1, padding = 1, bias = False), # [N, 64, 28, 28]\n",
    "                nn.BatchNorm2d(64),\n",
    "                nn.ReLU(inplace = True),\n",
    "                \n",
    "                nn.Conv2d(64, 64, 3, stride = 1, padding = 1, bias = False), # [N, 64, 28, 28]\n",
    "                nn.BatchNorm2d(64),\n",
    "                nn.ReLU(inplace = True),\n",
    "                \n",
    "                nn.Conv2d(64, num_classes, 1, stride = 1, padding = 0) # [N, 11, 28, 28]\n",
    "            )\n",
    "        ])\n",
    "        \n",
    "        # 誤差関数の設定\n",
    "        self.loss = nn.MSELoss() \n",
    "        # 最適化手法の設定\n",
    "        self.optimizer = optim.Adam(self.parameters(), lr = 1e-2)\n",
    "    \n",
    "    def forward(self, x):\n",
    "        h_list = [] # 特徴マップを格納するリスト\n",
    "        for block in self.encoder:\n",
    "            x = block(x)\n",
    "            h_list.append(x)\n",
    "        \n",
    "        x = self.bottle_neck(x)\n",
    "        \n",
    "        for h, block in zip(h_list[::-1], self.decoder):\n",
    "            x = block(torch.cat([h, x], dim = 1))\n",
    "        \n",
    "        return x\n",
    "    \n",
    "model = torch.load(\"../../model/SemanticSegmentation-mnist.pth\")"
   ]
  },
  {
   "cell_type": "code",
   "execution_count": 6,
   "id": "27bdb7d9",
   "metadata": {},
   "outputs": [
    {
     "data": {
      "image/png": "[encoded data removed]",
      "text/plain": [
       "<Figure size 576x576 with 2 Axes>"
      ]
     },
     "metadata": {
      "needs_background": "light"
     },
     "output_type": "display_data"
    }
   ],
   "source": [
    "idx = torch.randint(low = 0, high = len(imgs), size = (1, 1)).item()\n",
    "img, mask = imgs[idx], masks[idx]\n",
    "# 画像表示\n",
    "figure = plt.figure(figsize = (8, 8))\n",
    "rows, cols = 2, 1\n",
    "# 画像\n",
    "figure.add_subplot(cols, rows, 1)\n",
    "plt.axis(\"off\")\n",
    "plt.imshow(imgs[idx].squeeze().numpy(), cmap = \"gray\")\n",
    "# マスク画像\n",
    "figure.add_subplot(cols, rows, 2)\n",
    "plt.axis(\"off\")\n",
    "pred = model(imgs)\n",
    "plt.imshow(set_color(pred[idx].detach().numpy().argmax(axis = 0)), cmap = \"gray\")\n",
    "plt.show()"
   ]
  },
  {
   "cell_type": "code",
   "execution_count": 7,
   "id": "ea00db99",
   "metadata": {},
   "outputs": [],
   "source": [
    "def batch_predict(np_rgb_imgs):\n",
    "    np_imgs = np.zeros((len(np_rgb_imgs), 1, 28, 28))\n",
    "    for i, np_rgb_img in enumerate(np_rgb_imgs):\n",
    "        np_imgs[i, 0, :, :] = (np_rgb_img[:, :, 0] + np_rgb_img[:, :, 1] + np_rgb_img[:, :, 2]) / 3\n",
    "    y = model(torch.from_numpy(np_imgs).to(torch.float32))\n",
    "    return y.detach().numpy()[:, :, 14, 14]"
   ]
  },
  {
   "cell_type": "code",
   "execution_count": 8,
   "id": "5f537c7f",
   "metadata": {
    "scrolled": false
   },
   "outputs": [
    {
     "data": {
      "application/vnd.jupyter.widget-view+json": {
       "model_id": "bb46f3bf3e8c4082a2c5e68fffe061df",
       "version_major": 2,
       "version_minor": 0
      },
      "text/plain": [
       "  0%|          | 0/10000 [00:00<?, ?it/s]"
      ]
     },
     "metadata": {},
     "output_type": "display_data"
    }
   ],
   "source": [
    "#imgs, labels = next(iter(dataloaders_dict[\"test\"]))\n",
    "explainer = lime_image.LimeImageExplainer()\n",
    "segmenter = SegmentationAlgorithm('quickshift', kernel_size=1, max_dist=200, ratio=0.2)\n",
    "explanation = explainer.explain_instance(image = imgs[idx].squeeze().numpy(),\n",
    "                                         classifier_fn = batch_predict,\n",
    "                                         top_labels=11,\n",
    "                                         hide_color=0,\n",
    "                                         num_samples=10000,\n",
    "                                         segmentation_fn=segmenter\n",
    ")"
   ]
  },
  {
   "cell_type": "code",
   "execution_count": 9,
   "id": "7cdf3698",
   "metadata": {},
   "outputs": [
    {
     "data": {
      "image/png": "[encoded data removed]",
      "text/plain": [
       "<Figure size 576x288 with 1 Axes>"
      ]
     },
     "metadata": {
      "needs_background": "light"
     },
     "output_type": "display_data"
    }
   ],
   "source": [
    "temp, mask = explanation.get_image_and_mask(0, positive_only=True, num_features=4, hide_rest=False)\n",
    "fig, (ax1) = plt.subplots(1, 1, figsize = (8, 4))\n",
    "ax1.imshow(label2rgb(mask, temp, bg_label = 0), interpolation = 'nearest')\n",
    "plt.show()"
   ]
  },
  {
   "cell_type": "code",
   "execution_count": 10,
   "id": "32c672c6",
   "metadata": {
    "scrolled": false
   },
   "outputs": [
    {
     "data": {
      "image/png": "[encoded data removed]",
      "text/plain": [
       "<Figure size 720x1440 with 10 Axes>"
      ]
     },
     "metadata": {
      "needs_background": "light"
     },
     "output_type": "display_data"
    }
   ],
   "source": [
    "fig, m_axs = plt.subplots(5,2, figsize = (10, 20))\n",
    "#print(f\"Ans : {labels[0]}, Output : {model(imgs[0]).argmax(axis=1).item()}\")\n",
    "for i, c_ax in enumerate(m_axs.flatten()):\n",
    "    temp, mask = explanation.get_image_and_mask(i, positive_only=False, num_features=10, hide_rest=False)\n",
    "    c_ax.imshow(label2rgb(3-mask, imgs[idx].squeeze().numpy(), bg_label = 0), interpolation = 'nearest')\n",
    "    c_ax.set_title(f'Positive(Red) and Negative(Blue) for {i}')\n",
    "    c_ax.axis('off')"
   ]
  }
 ],
 "metadata": {
  "kernelspec": {
   "display_name": "Python 3 (ipykernel)",
   "language": "python",
   "name": "python3"
  },
  "language_info": {
   "codemirror_mode": {
    "name": "ipython",
    "version": 3
   },
   "file_extension": ".py",
   "mimetype": "text/x-python",
   "name": "python",
   "nbconvert_exporter": "python",
   "pygments_lexer": "ipython3",
   "version": "3.10.6"
  }
 },
 "nbformat": 4,
 "nbformat_minor": 5
}
