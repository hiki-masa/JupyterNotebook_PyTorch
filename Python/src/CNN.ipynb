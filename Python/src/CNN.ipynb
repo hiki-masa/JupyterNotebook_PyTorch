{
 "cells": [
  {
   "cell_type": "code",
   "execution_count": 1,
   "id": "e225c020",
   "metadata": {},
   "outputs": [],
   "source": [
    "%matplotlib inline\n",
    "import torch\n",
    "from torch import nn\n",
    "import torch.optim as optim\n",
    "import torch.nn.functional as F\n",
    "import torchvision\n",
    "import torchvision.transforms as transforms\n",
    "from torch.utils.data import DataLoader\n",
    "import matplotlib.pyplot as plt\n",
    "from IPython.display import clear_output"
   ]
  },
  {
   "cell_type": "markdown",
   "id": "a73e2f57",
   "metadata": {},
   "source": [
    "# CNN : Convolutional Neural Network\n",
    "畳み込みニューラルネットワークとも呼ばれ、局所的な情報の抽象化および位置普遍性を持たせて、順次伝搬型のニューラルネットワークを利用したアルゴリズム。画像に対して高いパターン認識能力を示す。<br>"
   ]
  },
  {
   "cell_type": "markdown",
   "id": "52fa14aa",
   "metadata": {},
   "source": [
    "### Conv2dについて\n",
    "以下では5x5の画像を、kernel_size:3、stride:1のフィルタにて畳み込みをする場合を表している。\n",
    "<div style=\"text-align: center;\">\n",
    "    \n",
    "|入力画像|フィルタ（カーネル）|特徴マップ|\n",
    "|:------:|:------------------:|:--------:|\n",
    "|![入力画像](https://qiita-user-contents.imgix.net/https%3A%2F%2Fqiita-image-store.s3.ap-northeast-1.amazonaws.com%2F0%2F75451%2F5b45b767-1e07-4102-28fb-abccc66235ae.png?ixlib=rb-4.0.0&auto=format&gif-q=60&q=75&w=1400&fit=max&s=c3d6f16fe0e4c64be2fe6008ab12fb1b)|![フィルタ](https://qiita-user-contents.imgix.net/https%3A%2F%2Fqiita-image-store.s3.ap-northeast-1.amazonaws.com%2F0%2F75451%2F121ea662-1710-53f1-600b-1e5366d5e615.png?ixlib=rb-4.0.0&auto=format&gif-q=60&q=75&w=1400&fit=max&s=cae4658a23892486327e991dc888d0cf)|![](https://qiita-user-contents.imgix.net/https%3A%2F%2Fqiita-image-store.s3.ap-northeast-1.amazonaws.com%2F0%2F75451%2F1473a519-d06a-f103-75bf-5638ef5ad340.gif?ixlib=rb-4.0.0&auto=format&gif-q=60&q=75&w=1400&fit=max&s=be18f7106495b38a3a221b2967fec737)\n",
    "</div>\n",
    "\n",
    "#### strideについて\n",
    "何マスずつズラして計算するか？のズラす値を表している。\n",
    "<div style=\"text-align: center;\">\n",
    "\n",
    "|stride:1|stride:2|\n",
    "|:------:|:------:|\n",
    "|![](https://qiita-user-contents.imgix.net/https%3A%2F%2Fqiita-image-store.s3.ap-northeast-1.amazonaws.com%2F0%2F75451%2F754509b3-6d6c-ed32-1f7f-60738adcb501.gif?ixlib=rb-4.0.0&auto=format&gif-q=60&q=75&w=1400&fit=max&s=8eb57420ea53336ec9a21b2d1c6e76a0)|![](https://qiita-user-contents.imgix.net/https%3A%2F%2Fqiita-image-store.s3.ap-northeast-1.amazonaws.com%2F0%2F75451%2F5a783ddf-db8c-e121-7b34-d4dc2c1367a2.gif?ixlib=rb-4.0.0&auto=format&gif-q=60&q=75&w=1400&fit=max&s=57599c36a551afcfdddd1300e257d5c7)|\n",
    "</div>"
   ]
  },
  {
   "cell_type": "markdown",
   "id": "277d2a86",
   "metadata": {},
   "source": [
    "### max_poolについて\n",
    "`torch.nn.functional` : 誤差関数や活性化関数などの関数を持つモジュール（慣例として`F`という略称でインポートされる）。畳み込み層や線形層といった状態を持つモジュールの状態なし版レイヤーも同様にこのモジュールに含まれている。\n",
    "`F.max_pool2d(input, kernel_size, stride=None, padding=0, dilation=1, ceil_mode=False, return_indices=False)`\n",
    "- `input` : 入力Tensor（minibatch, channels, Height, Width）\n",
    "- `kernel_size` : プーリング領域のサイズ。単一の数値またはタプルを指定できる。\n",
    "- `stride` : プーリング領域のストライド。単一の数値またはタプルを指定できる。デフォでは`kernel_size`が入る\n",
    "- `padding` : 両側に追加する暗黙的な負の無限大パディング。0以上`kernel_size`/2である必要がある\n",
    "![F.max_pool2d](https://cdn-ak.f.st-hatena.com/images/fotolife/u/usagisagi/20180704/20180704212410.jpg)"
   ]
  },
  {
   "cell_type": "code",
   "execution_count": 2,
   "id": "62e35ec7",
   "metadata": {},
   "outputs": [
    {
     "name": "stdout",
     "output_type": "stream",
     "text": [
      "CNN(\n",
      "  (Conv1): Conv2d(1, 32, kernel_size=(4, 4), stride=(2, 2), padding=(1, 1))\n",
      "  (Conv2): Conv2d(32, 64, kernel_size=(4, 4), stride=(2, 2), padding=(1, 1))\n",
      "  (linear1): Linear(in_features=576, out_features=128, bias=True)\n",
      "  (linear2): Linear(in_features=128, out_features=10, bias=True)\n",
      "  (loss): CrossEntropyLoss()\n",
      ")\n"
     ]
    }
   ],
   "source": [
    "class CNN(nn.Module):\n",
    "    def __init__(self):\n",
    "        super(CNN, self).__init__()\n",
    "        \n",
    "        self.loss_train_log = []\n",
    "        self.loss_test_log = []\n",
    "        self.acc_train_log = []\n",
    "        self.acc_test_log = []\n",
    "        \n",
    "        # 1つの入力画像チャンネル、4 x 4の正方形畳み込み、32つの出力チャンネル\n",
    "        self.Conv1 = nn.Conv2d( 1, 32, kernel_size = (4, 4), stride = (2, 2), padding = 1)\n",
    "        # 32つの入力画像チャンネル、4 x 4の正方形畳み込み、64つの出力チャンネル\n",
    "        self.Conv2 = nn.Conv2d(32, 64, kernel_size = (4, 4), stride = (2, 2), padding = 1)\n",
    "        self.linear1 = nn.Linear(64 * 3 * 3, 128)\n",
    "        self.linear2 = nn.Linear(128, 10)\n",
    "        \n",
    "        # 誤差関数の設定\n",
    "        self.loss = nn.CrossEntropyLoss() \n",
    "        # 最適化手法の設定\n",
    "        self.optimizer = optim.SGD(self.parameters(), lr = 1e-2)\n",
    "        \n",
    "    def forward(self, x):\n",
    "        x = self.Conv1(x) # Size : 1 x 28 x 28 -> 32 x 14 x 14\n",
    "        x = torch.relu(x)\n",
    "        x = self.Conv2(x) # Size : 32 x 14 x 14 -> 64 x 7 x 7\n",
    "        x = torch.relu(x)\n",
    "        x = F.max_pool2d(x, 2) # 指定サイズの範囲内で最大の値を抽出する(Size : 64 x 7 x 7 -> 64 x 3 x 3)\n",
    "        x = x.view(-1, 64 * 3 * 3) # ベクトルに変換\n",
    "        x = self.linear1(x)\n",
    "        x = torch.relu(x)\n",
    "        return self.linear2(x)\n",
    "    \n",
    "model = CNN()\n",
    "# モデルの表示\n",
    "print(model)"
   ]
  },
  {
   "cell_type": "markdown",
   "id": "8ae4fa86",
   "metadata": {},
   "source": [
    "## データセットの読み込み"
   ]
  },
  {
   "cell_type": "code",
   "execution_count": 3,
   "id": "5cacfc3e",
   "metadata": {},
   "outputs": [],
   "source": [
    "train_data = torchvision.datasets.MNIST(\n",
    "    root = \"../data\",\n",
    "    train = True,\n",
    "    download = True,\n",
    "    transform = transforms.ToTensor()\n",
    ")\n",
    "test_data = torchvision.datasets.MNIST(\n",
    "    root = \"../data\",\n",
    "    train = False,\n",
    "    download = True,\n",
    "    transform = transforms.ToTensor()\n",
    ")"
   ]
  },
  {
   "cell_type": "code",
   "execution_count": 4,
   "id": "d1280a92",
   "metadata": {},
   "outputs": [
    {
     "name": "stdout",
     "output_type": "stream",
     "text": [
      "Image batch shape [batch_size : 64, color : 1, width : 28, height : 28]\n",
      "Labels batch shape : 64\n"
     ]
    },
    {
     "data": {
      "image/png": "[encoded data removed]",
      "text/plain": [
       "<Figure size 576x576 with 9 Axes>"
      ]
     },
     "metadata": {
      "needs_background": "light"
     },
     "output_type": "display_data"
    }
   ],
   "source": [
    "train_dataloader = DataLoader(train_data, batch_size = 64, shuffle = True)\n",
    "test_dataloader = DataLoader(test_data, batch_size = 64, shuffle = True)\n",
    "# 辞書型変数にまとめると学習・検証の実施時に扱いやすくなる\n",
    "dataloaders_dict = {\"train\" : train_dataloader, \"test\" : test_dataloader}\n",
    "# イテレータに変換\n",
    "batch_iterator = iter(dataloaders_dict[\"train\"])\n",
    "# 要素を取り出す\n",
    "imgs, labels = next(batch_iterator)\n",
    "print(\"Image batch shape [batch_size : %d, color : %d, width : %d, height : %d]\"\n",
    "      % (imgs.size()[0], imgs.size()[1], imgs.size()[2], imgs.size()[3]))\n",
    "print(f\"Labels batch shape : {labels.size()[0]}\")\n",
    "\n",
    "# 訓練データの表示\n",
    "figure = plt.figure(figsize = (8, 8))\n",
    "rows, cols = 3, 3\n",
    "for i in range(rows * cols):\n",
    "    idx = torch.randint(low = 0, high = len(imgs), size = (1, 1)).item()\n",
    "    # データの取得\n",
    "    img, label = imgs[idx], labels[idx]\n",
    "    figure.add_subplot(cols, rows, i + 1)\n",
    "    plt.title(label.item())\n",
    "    plt.axis(\"off\")\n",
    "    plt.imshow(img.squeeze().numpy(), cmap = \"gray\")\n",
    "plt.show()"
   ]
  },
  {
   "cell_type": "markdown",
   "id": "f2654a17",
   "metadata": {},
   "source": [
    "# モデルの学習と評価"
   ]
  },
  {
   "cell_type": "code",
   "execution_count": 5,
   "id": "c8a1b20a",
   "metadata": {},
   "outputs": [
    {
     "name": "stdout",
     "output_type": "stream",
     "text": [
      "epoch : 1\n",
      "loss_train : 1.7157561300850626, acc_train : 0.5128764510154724\n",
      "loss_test  : 0.5189200937747955, acc_test : 0.8587778806686401\n",
      "epoch : 10\n",
      "loss_train : 0.08265358053479416, acc_train : 0.9750133156776428\n",
      "loss_test  : 0.07543858100072878, acc_test : 0.9742237329483032\n",
      "epoch : 20\n",
      "loss_train : 0.04847274371348361, acc_train : 0.9850746393203735\n",
      "loss_test  : 0.04925927235507614, acc_test : 0.984175980091095\n"
     ]
    },
    {
     "data": {
      "text/plain": [
       "<matplotlib.legend.Legend at 0x7fd7d6b73f10>"
      ]
     },
     "execution_count": 5,
     "metadata": {},
     "output_type": "execute_result"
    },
    {
     "data": {
      "image/png": "[encoded data removed]",
      "text/plain": [
       "<Figure size 432x288 with 1 Axes>"
      ]
     },
     "metadata": {
      "needs_background": "light"
     },
     "output_type": "display_data"
    }
   ],
   "source": [
    "for epoch in range(20): # エポック数分ループを回す\n",
    "    loss_train = 0.0\n",
    "    acc_train = 0.0\n",
    "    loss_test = 0.0\n",
    "    acc_test = 0.0\n",
    "    \n",
    "    # 学習\n",
    "    for (x, t) in train_dataloader:\n",
    "        # パラメータの勾配をリセット\n",
    "        model.optimizer.zero_grad()\n",
    "        # 順伝搬＋逆伝搬＋パラメータ更新\n",
    "        y = model(x)\n",
    "        loss = model.loss(y, t)\n",
    "        loss.backward()\n",
    "        model.optimizer.step()\n",
    "        # 統計情報の記録\n",
    "        loss_train += loss.item()\n",
    "        acc_train += sum(y.argmax(axis=1) == t) / len(t)\n",
    "        \n",
    "    # 検証\n",
    "    with torch.no_grad(): # テストでは勾配を求める必要がないので、勾配を求めないように設定\n",
    "        for x, t in test_dataloader:\n",
    "            y = model(x)\n",
    "            loss = model.loss(y, t)\n",
    "            loss_test += loss.item()\n",
    "            acc_test += sum(y.argmax(axis=1) == t) / len(t)\n",
    "            \n",
    "    # 結果の記録・表示\n",
    "    model.loss_train_log.append(loss_train / len(train_dataloader))\n",
    "    model.loss_test_log.append(loss_test / len(test_dataloader))\n",
    "    if epoch == 0 or epoch % 10 == 9:\n",
    "        print(f\"epoch : {epoch + 1}\")\n",
    "        print(f\"loss_train : {loss_train / len(train_dataloader)}, acc_train : {acc_train / len(train_dataloader)}\")\n",
    "        print(f\"loss_test  : {loss_test / len(test_dataloader)}, acc_test : {acc_test / len(test_dataloader)}\")\n",
    "        \n",
    "# Lossのログ表示\n",
    "plt.plot(range(1, len(model.loss_train_log) + 1), model.loss_train_log, label = \"train\")\n",
    "plt.plot(range(1, len(model.loss_test_log) + 1),  model.loss_test_log,  label = \"test\")\n",
    "plt.legend(loc = \"upper right\") # 凡例表示"
   ]
  },
  {
   "cell_type": "code",
   "execution_count": 6,
   "id": "53e8d9da",
   "metadata": {},
   "outputs": [
    {
     "data": {
      "image/png": "[encoded data removed]",
      "text/plain": [
       "<Figure size 576x576 with 9 Axes>"
      ]
     },
     "metadata": {
      "needs_background": "light"
     },
     "output_type": "display_data"
    }
   ],
   "source": [
    "# 推論結果の表示\n",
    "figure = plt.figure(figsize = (8, 8))\n",
    "rows, cols = 3, 3\n",
    "for i in range(rows * cols):\n",
    "    idx = torch.randint(low = 0, high = len(imgs), size = (1, 1)).item()\n",
    "    # データの取得\n",
    "    img, label = imgs[idx], labels[idx]\n",
    "    figure.add_subplot(cols, rows, i + 1)\n",
    "    plt.title(f\"Ans : {label.item()} Output : {model(img).argmax(axis=1).item()}\")\n",
    "    plt.axis(\"off\")\n",
    "    plt.imshow(img.squeeze().numpy(), cmap = \"gray\")\n",
    "plt.show()"
   ]
  }
 ],
 "metadata": {
  "kernelspec": {
   "display_name": "Python 3 (ipykernel)",
   "language": "python",
   "name": "python3"
  },
  "language_info": {
   "codemirror_mode": {
    "name": "ipython",
    "version": 3
   },
   "file_extension": ".py",
   "mimetype": "text/x-python",
   "name": "python",
   "nbconvert_exporter": "python",
   "pygments_lexer": "ipython3",
   "version": "3.10.5"
  }
 },
 "nbformat": 4,
 "nbformat_minor": 5
}
