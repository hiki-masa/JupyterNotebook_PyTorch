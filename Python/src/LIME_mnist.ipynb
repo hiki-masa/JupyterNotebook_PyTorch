{
 "cells": [
  {
   "cell_type": "markdown",
   "id": "2251126a",
   "metadata": {},
   "source": [
    "# LIME"
   ]
  },
  {
   "cell_type": "code",
   "execution_count": 1,
   "id": "5861c6a5",
   "metadata": {},
   "outputs": [],
   "source": [
    "%matplotlib inline\n",
    "import torch\n",
    "from torch import nn\n",
    "import torch.nn.functional as F\n",
    "import torchvision\n",
    "import torchvision.transforms as transforms\n",
    "from torch.utils.data import DataLoader\n",
    "import matplotlib.pyplot as plt\n",
    "import numpy as np\n",
    "from lime import lime_image\n",
    "from lime.wrappers.scikit_image import SegmentationAlgorithm\n",
    "from skimage.color import label2rgb"
   ]
  },
  {
   "cell_type": "markdown",
   "id": "62edcb72",
   "metadata": {},
   "source": [
    "# MNISTデータセットの場合\n",
    "## データセットの読み込み"
   ]
  },
  {
   "cell_type": "code",
   "execution_count": 2,
   "id": "2866c78b",
   "metadata": {},
   "outputs": [],
   "source": [
    "train_data = torchvision.datasets.MNIST(\n",
    "    root = \"../data\",\n",
    "    train = True,\n",
    "    download = True,\n",
    "    transform = transforms.ToTensor()\n",
    ")\n",
    "test_data = torchvision.datasets.MNIST(\n",
    "    root = \"../data\",\n",
    "    train = False,\n",
    "    download = True,\n",
    "    transform = transforms.ToTensor()\n",
    ")"
   ]
  },
  {
   "cell_type": "markdown",
   "id": "54042f0e",
   "metadata": {},
   "source": [
    "## データセットの表示"
   ]
  },
  {
   "cell_type": "code",
   "execution_count": 3,
   "id": "e0fb64f7",
   "metadata": {},
   "outputs": [
    {
     "data": {
      "text/plain": [
       "Text(0.5, 1.0, 'Digit : 3')"
      ]
     },
     "execution_count": 3,
     "metadata": {},
     "output_type": "execute_result"
    },
    {
     "data": {
      "image/png": "[encoded data removed]",
      "text/plain": [
       "<Figure size 432x288 with 1 Axes>"
      ]
     },
     "metadata": {
      "needs_background": "light"
     },
     "output_type": "display_data"
    }
   ],
   "source": [
    "train_dataloader = DataLoader(train_data, batch_size = 64, shuffle = True)\n",
    "test_dataloader = DataLoader(test_data, batch_size = 64, shuffle = True)\n",
    "# 辞書型変数にまとめると学習・検証の実施時に扱いやすくなる\n",
    "dataloaders_dict = {\"train\" : train_dataloader, \"test\" : test_dataloader}\n",
    "# イテレータに変換\n",
    "batch_iterator = iter(dataloaders_dict[\"train\"])\n",
    "# 要素を取り出す\n",
    "imgs, labels = next(batch_iterator)\n",
    "fig, ax1 = plt.subplots(1, 1)\n",
    "ax1.imshow(imgs[0].squeeze().numpy(), cmap = \"gray\")\n",
    "ax1.set_title(f\"Digit : {labels[0]}\")"
   ]
  },
  {
   "cell_type": "markdown",
   "id": "69b95d74",
   "metadata": {},
   "source": [
    "## 学習済みモデルの読み込み"
   ]
  },
  {
   "cell_type": "code",
   "execution_count": 4,
   "id": "61ecfc3d",
   "metadata": {},
   "outputs": [],
   "source": [
    "class CNN(nn.Module):\n",
    "    def __init__(self):\n",
    "        super(CNN, self).__init__()\n",
    "        \n",
    "        self.loss_train_log = []\n",
    "        self.loss_test_log = []\n",
    "        self.acc_train_log = []\n",
    "        self.acc_test_log = []\n",
    "        \n",
    "        # 1つの入力画像チャンネル、4 x 4の正方形畳み込み、32つの出力チャンネル\n",
    "        self.Conv1 = nn.Conv2d( 1, 32, kernel_size = (4, 4), stride = (2, 2), padding = 1)\n",
    "        # 32つの入力画像チャンネル、4 x 4の正方形畳み込み、64つの出力チャンネル\n",
    "        self.Conv2 = nn.Conv2d(32, 64, kernel_size = (4, 4), stride = (2, 2), padding = 1)\n",
    "        self.linear1 = nn.Linear(64 * 3 * 3, 128)\n",
    "        self.linear2 = nn.Linear(128, 10)\n",
    "        \n",
    "        # 誤差関数の設定\n",
    "        self.loss = nn.CrossEntropyLoss() \n",
    "        # 最適化手法の設定\n",
    "        self.optimizer = optim.SGD(self.parameters(), lr = 1e-2)\n",
    "        \n",
    "    def forward(self, x):\n",
    "        x = self.Conv1(x) # Size : 1 x 28 x 28 -> 32 x 14 x 14\n",
    "        x = torch.relu(x)\n",
    "        x = self.Conv2(x) # Size : 32 x 14 x 14 -> 64 x 7 x 7\n",
    "        x = torch.relu(x)\n",
    "        x = F.max_pool2d(x, 2) # 指定サイズの範囲内で最大の値を抽出する(Size : 64 x 7 x 7 -> 64 x 3 x 3)\n",
    "        x = x.view(-1, 64 * 3 * 3) # ベクトルに変換\n",
    "        x = self.linear1(x)\n",
    "        x = torch.relu(x)\n",
    "        return self.linear2(x)\n",
    "\n",
    "# 学習済みモデルの読み込み\n",
    "model = torch.load(\"../model/cnn_mnist.pth\")"
   ]
  },
  {
   "cell_type": "code",
   "execution_count": 5,
   "id": "07c9545e",
   "metadata": {},
   "outputs": [
    {
     "data": {
      "image/png": "[encoded data removed]",
      "text/plain": [
       "<Figure size 576x576 with 9 Axes>"
      ]
     },
     "metadata": {
      "needs_background": "light"
     },
     "output_type": "display_data"
    }
   ],
   "source": [
    "# 推論結果の表示\n",
    "figure = plt.figure(figsize = (8, 8))\n",
    "rows, cols = 3, 3\n",
    "for i in range(rows * cols):\n",
    "    idx = torch.randint(low = 0, high = len(imgs), size = (1, 1)).item()\n",
    "    # データの取得\n",
    "    img, label = imgs[idx], labels[idx]\n",
    "    figure.add_subplot(cols, rows, i + 1)\n",
    "    plt.title(f\"Ans : {label.item()} Output : {model(img).argmax(axis=1).item()}\")\n",
    "    plt.axis(\"off\")\n",
    "    plt.imshow(img.squeeze().numpy(), cmap = \"gray\")\n",
    "plt.show()"
   ]
  },
  {
   "cell_type": "markdown",
   "id": "e93e062b",
   "metadata": {},
   "source": [
    "# LIMEを用いた分類結果の説明\n",
    "<code>explain_instance</code>:\n",
    "<table>\n",
    "    <tr>\n",
    "        <th>引数名</th>\n",
    "        <th><p>説明</p></th>\n",
    "    </tr>\n",
    "    <tr>\n",
    "        <td>image</td>\n",
    "        <td><p>RGB画像（2次元配列の場合は、グレースケールと想定され、gray2rgbが呼び出される）</p></td>\n",
    "    </tr>\n",
    "    <tr>\n",
    "        <td>classifier_fn</td>\n",
    "        <td><p>numpy配列を受け取り、予測確率を出力する関数</p></td>\n",
    "    </tr>\n",
    "    <tr>\n",
    "        <td>top_labels</td>\n",
    "        <td><p>Noneでない場合、ラベルを無視し、予測確率が最も高いK個（Kはこのパラメータ）のラベルについて説明を生成する</p></td>\n",
    "    </tr>\n",
    "    <tr>\n",
    "        <td>hide_color</td>\n",
    "        <td><p>Noneでない場合、この色でスーパーピクセルを隠す。それ以外の場合は、画像の平均画素色を使用する。</p></td>\n",
    "    </tr>\n",
    "    <tr>\n",
    "        <td>num_samples</td>\n",
    "        <td><p>線形モデルを学習するための近傍領域のサイズ</p></td>\n",
    "    </tr>\n",
    "    <tr>\n",
    "        <td>segmentation_fn</td>\n",
    "        <td><p>SegmentationAlgorithm</p></td>\n",
    "    </tr>\n",
    "</table><br>\n",
    "<code>SegmentationAlgorithm</code>:\n",
    "<table>\n",
    "    <tr>\n",
    "        <th>引数名</th>\n",
    "        <th><p>説明</p></th>\n",
    "    </tr>\n",
    "    <tr>\n",
    "        <td>algo_type</td>\n",
    "        <td><p>以下の中から選択されたセグメンテーションアルゴリズム（quickshift, slic, felzenszwalb）</p></td>\n",
    "    </tr>\n",
    "    <tr>\n",
    "        <td>target_params</td>\n",
    "        <td><p>アルゴリズムのパラメータ</p></td>\n",
    "    <tr>\n",
    "</table>\n",
    "<code>batch_predict</code>:<br>\n",
    "explain_instance関数内で学習モデルの予測関数が使用できるように、入力をnumpy型からTensor型に変換後、学習モデルで予測を行い、explain_instanceで使用できるようにnumpy型に修正し戻り値を返す関数"
   ]
  },
  {
   "cell_type": "code",
   "execution_count": 6,
   "id": "7b9ed0bc",
   "metadata": {},
   "outputs": [],
   "source": [
    "def batch_predict(np_rgb_imgs):\n",
    "    # RGB画像をモノクロ画像に変換\n",
    "    np_imgs = np.zeros((len(np_rgb_imgs), 1, 28, 28))\n",
    "    for i, np_rgb_img in enumerate(np_rgb_imgs):\n",
    "        np_imgs[i, 0, :, :] = (np_rgb_img[:, :, 0] + np_rgb_img[:, :, 1] + np_rgb_img[:, :, 2]) / 3 \n",
    "    \n",
    "    # numpy型をTensor型に変更\n",
    "    tensor_imgs = torch.from_numpy(np_imgs).to(torch.float32)\n",
    "    \n",
    "    # 予測結果をnumpyに変換しreturn\n",
    "    return model(tensor_imgs).detach().numpy()"
   ]
  },
  {
   "cell_type": "code",
   "execution_count": 7,
   "id": "3e4f1f58",
   "metadata": {
    "scrolled": false
   },
   "outputs": [
    {
     "data": {
      "application/vnd.jupyter.widget-view+json": {
       "model_id": "41ba0424328e4196b7984fe23ca6388a",
       "version_major": 2,
       "version_minor": 0
      },
      "text/plain": [
       "  0%|          | 0/10000 [00:00<?, ?it/s]"
      ]
     },
     "metadata": {},
     "output_type": "display_data"
    }
   ],
   "source": [
    "imgs, labels = next(iter(dataloaders_dict[\"test\"]))\n",
    "explainer = lime_image.LimeImageExplainer()\n",
    "segmenter = SegmentationAlgorithm(algo_type='quickshift', kernel_size=1, max_dist=200, ratio=0.2)\n",
    "explanation = explainer.explain_instance(image = imgs[0].squeeze().numpy(),\n",
    "                                         classifier_fn = batch_predict,\n",
    "                                         top_labels=10,\n",
    "                                         hide_color=0,\n",
    "                                         num_samples=10000,\n",
    "                                         segmentation_fn=segmenter\n",
    ")"
   ]
  },
  {
   "cell_type": "markdown",
   "id": "3ffb6fb8",
   "metadata": {},
   "source": [
    "## 各クラスごとの説明"
   ]
  },
  {
   "cell_type": "code",
   "execution_count": 8,
   "id": "abe62dae",
   "metadata": {
    "scrolled": false
   },
   "outputs": [
    {
     "name": "stdout",
     "output_type": "stream",
     "text": [
      "Ans : 3, Output : 3\n"
     ]
    },
    {
     "data": {
      "image/png": "[encoded data removed]",
      "text/plain": [
       "<Figure size 720x1440 with 10 Axes>"
      ]
     },
     "metadata": {
      "needs_background": "light"
     },
     "output_type": "display_data"
    }
   ],
   "source": [
    "fig, m_axs = plt.subplots(5,2, figsize = (10, 20))\n",
    "print(f\"Ans : {labels[0]}, Output : {model(imgs[0]).argmax(axis=1).item()}\")\n",
    "for i, c_ax in enumerate(m_axs.flatten()):\n",
    "    temp, mask = explanation.get_image_and_mask(i, positive_only=False, num_features=10, hide_rest=False)\n",
    "    c_ax.imshow(label2rgb(3-mask, imgs[0].squeeze().numpy(), bg_label = 0), interpolation = 'nearest')\n",
    "    c_ax.set_title(f'Positive(Red) and Negative(Blue) for {i}')\n",
    "    c_ax.axis('off')"
   ]
  }
 ],
 "metadata": {
  "kernelspec": {
   "display_name": "Python 3 (ipykernel)",
   "language": "python",
   "name": "python3"
  },
  "language_info": {
   "codemirror_mode": {
    "name": "ipython",
    "version": 3
   },
   "file_extension": ".py",
   "mimetype": "text/x-python",
   "name": "python",
   "nbconvert_exporter": "python",
   "pygments_lexer": "ipython3",
   "version": "3.10.5"
  }
 },
 "nbformat": 4,
 "nbformat_minor": 5
}
