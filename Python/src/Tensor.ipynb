{
 "cells": [
  {
   "cell_type": "code",
   "execution_count": 1,
   "id": "62c92fcd",
   "metadata": {},
   "outputs": [],
   "source": [
    "import torch\n",
    "import numpy as np"
   ]
  },
  {
   "cell_type": "markdown",
   "id": "d1aa1143",
   "metadata": {},
   "source": [
    "# Tensorとは？\n",
    "- 多次元配列を扱うためのデータ構造\n",
    "- Numpyのndarrayとほぼ同様のAPIを有しており、GPUによる計算もサポートしている\n",
    "- PyTorchにおいてテンソルはGPU上でも使用できるため、処理速度の向上させることも可能"
   ]
  },
  {
   "cell_type": "markdown",
   "id": "d648c709",
   "metadata": {},
   "source": [
    "## Tensorの初期化"
   ]
  },
  {
   "cell_type": "code",
   "execution_count": 2,
   "id": "d9e260eb",
   "metadata": {},
   "outputs": [
    {
     "name": "stdout",
     "output_type": "stream",
     "text": [
      "tensor([[-1.2040e+33,  3.0780e-41, -1.2084e+33,  3.0780e-41,  8.9683e-44],\n",
      "        [ 0.0000e+00,  1.1210e-43,  0.0000e+00, -1.2068e+33,  3.0780e-41],\n",
      "        [ 0.0000e+00,  0.0000e+00,  0.0000e+00,  0.0000e+00,  0.0000e+00]])\n",
      "tensor([[0.7909, 0.5317, 0.0670, 0.7291, 0.3526],\n",
      "        [0.3139, 0.6002, 0.1121, 0.3042, 0.8266],\n",
      "        [0.4753, 0.2406, 0.1524, 0.7255, 0.5230]])\n",
      "tensor([5.5000, 3.0000])\n",
      "tensor([[0., 0., 0., 0., 0.],\n",
      "        [0., 0., 0., 0., 0.],\n",
      "        [0., 0., 0., 0., 0.]])\n",
      "tensor([[1, 1, 1, 1, 1],\n",
      "        [1, 1, 1, 1, 1],\n",
      "        [1, 1, 1, 1, 1]])\n",
      "Datatype of tensor : torch.int64\n",
      "tensor([[0.2942, 0.7175, 0.6373, 0.3523, 0.3605],\n",
      "        [0.1571, 0.1841, 0.5757, 0.4382, 0.2440],\n",
      "        [0.9235, 0.9021, 0.0079, 0.6347, 0.5139]])\n",
      "Using cpu device\n",
      "Device tensor is store on : cpu\n",
      "tensor([0, 1, 2, 3, 4, 5, 6, 7, 8, 9])\n"
     ]
    }
   ],
   "source": [
    "# 初期化されていない行列の作成\n",
    "print(torch.empty(3, 5))\n",
    "\n",
    "# 乱数によって初期化された行列の作成\n",
    "print(torch.rand(3, 5))\n",
    "\n",
    "# 数値を指定した行列の作成\n",
    "print(torch.tensor([5.5, 3]))\n",
    "\n",
    "# 数値0で初期化された行列の作成\n",
    "print(torch.zeros(3, 5))\n",
    "\n",
    "# long型の数値1で初期化された行列の作成\n",
    "print(torch.ones(3, 5, dtype = torch.long))\n",
    "\n",
    "# データタイプの確認\n",
    "print(f\"Datatype of tensor : {torch.ones(3, 5, dtype = torch.long).dtype}\")\n",
    "\n",
    "# deviceを指定することで CPU or GPU 上にTensorを作成する\n",
    "print(torch.rand(3, 5, device=\"cpu\"))\n",
    "\n",
    "# GPUが使用可能か確認する\n",
    "device = \"cuda\" if torch.cuda.is_available() else \"cpu\"\n",
    "print(f\"Using {device} device\")\n",
    "\n",
    "# GPUが使用可能であれば、GPU上にtensorを移動させる\n",
    "tensor = torch.rand(3, 5)\n",
    "if torch.cuda.is_available():\n",
    "    tensor = tensor.to(device)\n",
    "\n",
    "# Tensorがどこに格納されているか確認\n",
    "print(f\"Device tensor is store on : {tensor.device}\")\n",
    "\n",
    "# 0～9までの値で初期化された1次元行列の作成\n",
    "print(torch.arange(0, 10))"
   ]
  },
  {
   "cell_type": "markdown",
   "id": "0c7b8b43",
   "metadata": {},
   "source": [
    "## ndarrayとTensorの変換\n",
    "注：変換前の行列の値を変更すると、変更後の行列も値が変化する"
   ]
  },
  {
   "cell_type": "code",
   "execution_count": 3,
   "id": "e12d7200",
   "metadata": {},
   "outputs": [
    {
     "name": "stdout",
     "output_type": "stream",
     "text": [
      "numpy : \n",
      "[[0.8447152  0.10116208 0.6624328 ]\n",
      " [0.952541   0.80863863 0.96336144]]\n",
      "tensor : \n",
      "tensor([[0.8447, 0.1012, 0.6624],\n",
      "        [0.9525, 0.8086, 0.9634]])\n"
     ]
    }
   ],
   "source": [
    "tensor = torch.rand(2, 3)\n",
    "# Tensor -> Numpy ndarray\n",
    "# 注：GPU上のtensorはCPU上に移動させる必要がある\n",
    "np_array = np.array(tensor)\n",
    "np_array = tensor.numpy()\n",
    "print(f\"numpy : \\n{np_array}\")\n",
    "\n",
    "# Numpy ndarray -> Tensor\n",
    "tensor = torch.from_numpy(np_array)\n",
    "print(f\"tensor : \\n{tensor}\")"
   ]
  },
  {
   "cell_type": "markdown",
   "id": "254e9461",
   "metadata": {},
   "source": [
    "## Tensorのインデンシング操作"
   ]
  },
  {
   "cell_type": "code",
   "execution_count": 4,
   "id": "5dec7490",
   "metadata": {},
   "outputs": [
    {
     "name": "stdout",
     "output_type": "stream",
     "text": [
      "tensor(0.0782)\n",
      "row(0) col(1) is value : 0.078191\n",
      "First row :  tensor([0.2412, 0.0782, 0.1467, 0.2905])\n",
      "First column :  tensor([0.2412, 0.9105, 0.4479, 0.5415])\n",
      "Last column  :  tensor([0.2905, 0.6604, 0.8548, 0.6784])\n",
      "tensor([[0.2412, 0.0782],\n",
      "        [0.9105, 0.2919],\n",
      "        [0.4479, 0.4475],\n",
      "        [0.5415, 0.0578]])\n",
      "tensor([[0.0782, 0.1467],\n",
      "        [0.2919, 0.5164],\n",
      "        [0.4475, 0.2894],\n",
      "        [0.0578, 0.3232]])\n",
      "tensor([0.9105, 0.5164, 0.6604, 0.8548, 0.5415, 0.6784])\n",
      "tensor([[2.4124e-01, 1.0000e+02, 1.4675e-01, 2.0000e+02],\n",
      "        [9.1052e-01, 2.9192e-01, 5.1639e-01, 2.0000e+02],\n",
      "        [4.4790e-01, 4.4751e-01, 2.8941e-01, 2.0000e+02],\n",
      "        [5.4153e-01, 5.7850e-02, 3.2322e-01, 2.0000e+02]])\n",
      "tensor([[0.2412, 1.0000, 0.1467, 1.0000],\n",
      "        [1.0000, 0.2919, 1.0000, 1.0000],\n",
      "        [0.4479, 0.4475, 0.2894, 1.0000],\n",
      "        [1.0000, 0.0578, 0.3232, 1.0000]])\n"
     ]
    }
   ],
   "source": [
    "tensor = torch.rand(4, 4)\n",
    "# インデックスを指定\n",
    "print(tensor[0, 1])\n",
    "\n",
    "# 中の値だけの取り出し\n",
    "print(f\"row(%d) col(%d) is value : %f\" % (0, 1, tensor[0, 1].item()))\n",
    "\n",
    "# 行の取り出し\n",
    "print(\"First row : \", tensor[0, :])\n",
    "\n",
    "# 列の取り出し\n",
    "print(\"First column : \", tensor[:, 0])\n",
    "print(\"Last column  : \", tensor[:, -1])\n",
    "\n",
    "# スライスでの取り出し\n",
    "print(tensor[:, :2])\n",
    "print(tensor[:, [1, 2]])\n",
    "\n",
    "# マスク配列を使用して特定の値より大きい部分のみを選択\n",
    "print(tensor[tensor > 0.5])\n",
    "\n",
    "# インデックス・スライスを使用した一括代入\n",
    "tensor[0, 1] = 100\n",
    "tensor[:, -1] = 200\n",
    "print(tensor)\n",
    "\n",
    "# 特定条件の要素のみ置換\n",
    "tensor[tensor > 0.5] = 1\n",
    "print(tensor)"
   ]
  },
  {
   "cell_type": "markdown",
   "id": "cc81ea8d",
   "metadata": {},
   "source": [
    "## Tensorのサイズ操作"
   ]
  },
  {
   "cell_type": "code",
   "execution_count": 5,
   "id": "92d6b368",
   "metadata": {},
   "outputs": [
    {
     "name": "stdout",
     "output_type": "stream",
     "text": [
      "torch.Size([2, 8])\n",
      "tensor([[0.8996, 0.1509, 0.5155, 0.2583, 0.7522, 0.3023, 0.4052, 0.0794],\n",
      "        [0.2273, 0.4430, 0.2977, 0.6888, 0.0503, 0.5345, 0.7004, 0.7433]])\n",
      "tensor([[0.8996, 0.1509, 0.5155, 0.2583, 0.7522, 0.3023, 0.4052, 0.0794, 0.2273,\n",
      "         0.4430, 0.2977, 0.6888, 0.0503, 0.5345, 0.7004, 0.7433]])\n",
      "tensor([[0.8996, 0.1509, 0.5155, 0.2583],\n",
      "        [0.7522, 0.3023, 0.4052, 0.0794],\n",
      "        [0.2273, 0.4430, 0.2977, 0.6888],\n",
      "        [0.0503, 0.5345, 0.7004, 0.7433]])\n",
      "tensor([[0.8996, 0.2273],\n",
      "        [0.1509, 0.4430],\n",
      "        [0.5155, 0.2977],\n",
      "        [0.2583, 0.6888],\n",
      "        [0.7522, 0.0503],\n",
      "        [0.3023, 0.5345],\n",
      "        [0.4052, 0.7004],\n",
      "        [0.0794, 0.7433]])\n",
      "tensor([[0.8996, 0.1509, 0.5155, 0.2583, 0.7522, 0.3023, 0.4052, 0.0794],\n",
      "        [0.2273, 0.4430, 0.2977, 0.6888, 0.0503, 0.5345, 0.7004, 0.7433],\n",
      "        [0.8996, 0.1509, 0.5155, 0.2583, 0.7522, 0.3023, 0.4052, 0.0794],\n",
      "        [0.2273, 0.4430, 0.2977, 0.6888, 0.0503, 0.5345, 0.7004, 0.7433]])\n"
     ]
    }
   ],
   "source": [
    "tensor = torch.rand(2, 8)\n",
    "# Tensorサイズ≒Tensorの形\n",
    "print(tensor.size())\n",
    "# リサイズ\n",
    "print(tensor)\n",
    "tensor1 = tensor.view(1, 16)\n",
    "print(tensor1)\n",
    "tensor2 = tensor.view(-1, 4) # -1を指定するとほかに指定した次元の値から自動で計算\n",
    "print(tensor2)\n",
    "\n",
    "# 転置\n",
    "print(tensor.t())\n",
    "\n",
    "# 結合\n",
    "print(torch.cat([tensor, tensor], dim = 0))"
   ]
  },
  {
   "cell_type": "markdown",
   "id": "9a440f0f",
   "metadata": {},
   "source": [
    "## Tensorの演算\n",
    "|演算子|説明|\n",
    "|:-----|:---|\n",
    "|dot|ベクトルの内積|\n",
    "|mv|行列とベクトルの積|\n",
    "|mm|行列と行列の積|\n",
    "|matmul|引数の種類によって自動的にdot, mv, mmを選択して実行|\n",
    "|gesv|LU分解による連立方程式の解|\n",
    "|eig, symeig|固有値分解（symeigは対称行列用のより効率の良いアルゴリズム）|\n",
    "|svd|特異値分解|"
   ]
  },
  {
   "cell_type": "markdown",
   "id": "29d91feb",
   "metadata": {},
   "source": [
    "### ベクトルの演算"
   ]
  },
  {
   "cell_type": "code",
   "execution_count": 6,
   "id": "425c9ceb",
   "metadata": {},
   "outputs": [
    {
     "name": "stdout",
     "output_type": "stream",
     "text": [
      "tensor([[5.2536, 5.3174, 5.1213]])\n",
      "tensor([[5.2536, 5.3174, 5.1213]])\n",
      "tensor([[5.2536, 5.3174, 5.1213]])\n",
      "tensor([[5.2536, 5.3174, 5.1213]])\n",
      "tensor([[27.6008, 28.2751, 26.2280]])\n",
      "tensor([[5.8120, 5.5836, 5.7309]])\n",
      "tensor([[58.2573, 59.0413, 56.9085]])\n"
     ]
    }
   ],
   "source": [
    "v1 = torch.rand([1, 3])\n",
    "v2 = torch.rand([1, 3])\n",
    "result = torch.zeros([1, 3])\n",
    "\n",
    "# ベクトルとスカラーの足し算\n",
    "print(v1 + 5)\n",
    "print(torch.add(v1, 5))\n",
    "print(torch.add(v1, 5, out = result)) # 出力先を引数で指定\n",
    "print(v1.add_(5)) # Tensorそのものの変更（ip-place：インプレース処理）\n",
    "\n",
    "# ベクトルの累乗\n",
    "print(v1 ** 2)\n",
    "\n",
    "# ベクトル同士の演算\n",
    "print(v1 + v2)\n",
    "\n",
    "# 複数の組み合わせ\n",
    "print(v1 * 10 - v2 / 2 + 6)"
   ]
  },
  {
   "cell_type": "markdown",
   "id": "701dd546",
   "metadata": {},
   "source": [
    "### 行列の演算"
   ]
  },
  {
   "cell_type": "code",
   "execution_count": 7,
   "id": "ed8a49ce",
   "metadata": {},
   "outputs": [
    {
     "name": "stdout",
     "output_type": "stream",
     "text": [
      "tensor([[1.3044, 1.8155, 0.2715],\n",
      "        [1.1546, 1.9507, 0.8573],\n",
      "        [0.3382, 0.3250, 1.6431],\n",
      "        [1.7122, 0.0648, 0.1763],\n",
      "        [1.4542, 1.4307, 1.1143]])\n",
      "tensor([[1.4873, 1.2642, 0.9681],\n",
      "        [1.4124, 1.3318, 1.2610],\n",
      "        [1.0042, 0.5190, 1.6539],\n",
      "        [1.6912, 0.3889, 0.9205],\n",
      "        [1.5622, 1.0718, 1.3895]])\n",
      "tensor([[0.6931, 1.4612, 0.2765],\n",
      "        [0.7199, 1.0377, 1.4115],\n",
      "        [0.3338, 0.3789, 0.9957],\n",
      "        [0.9465, 0.0655, 0.5174],\n",
      "        [0.7981, 1.3941, 1.4096]])\n",
      "tensor([[0.0267, 0.5024, 0.0191],\n",
      "        [0.0823, 0.0609, 0.4213],\n",
      "        [0.0278, 0.0352, 0.1431],\n",
      "        [0.0774, 0.0011, 0.0378],\n",
      "        [0.0516, 0.4856, 0.4750]])\n",
      "tensor([[0.5481, 0.2831, 0.3275, 0.1473, 0.7782],\n",
      "        [0.6237, 0.5645, 0.3808, 0.2685, 1.0685],\n",
      "        [0.2125, 0.8417, 0.2061, 0.3733, 0.8227],\n",
      "        [0.0653, 0.2108, 0.1633, 0.1163, 0.1579],\n",
      "        [0.5040, 0.6959, 0.3716, 0.3285, 1.0122]])\n"
     ]
    }
   ],
   "source": [
    "v = torch.rand(1, 3)\n",
    "x = torch.rand(5, 3)\n",
    "y = torch.rand(5, 3)\n",
    "result = torch.rand(5, 3)\n",
    "\n",
    "# 行列とスカラー\n",
    "print(x * 2.0)\n",
    "# 行列とベクトル\n",
    "print(x + v)\n",
    "# 行列同士\n",
    "print(x + y)\n",
    "print(x * y)\n",
    "print(x @ y.t())"
   ]
  },
  {
   "cell_type": "markdown",
   "id": "ac18cc82",
   "metadata": {},
   "source": [
    "### 数学関数"
   ]
  },
  {
   "cell_type": "code",
   "execution_count": 8,
   "id": "15c4c21a",
   "metadata": {},
   "outputs": [
    {
     "name": "stdout",
     "output_type": "stream",
     "text": [
      "tensor([0.8120, 0.3952, 0.3219, 0.3421, 0.6423])\n"
     ]
    }
   ],
   "source": [
    "X = torch.rand(3, 5)\n",
    "\n",
    "# 平均値\n",
    "m = torch.mean(X)\n",
    "m = X.mean()\n",
    "# 行ごとの平均値\n",
    "print(X.mean(0))"
   ]
  }
 ],
 "metadata": {
  "kernelspec": {
   "display_name": "Python 3 (ipykernel)",
   "language": "python",
   "name": "python3"
  },
  "language_info": {
   "codemirror_mode": {
    "name": "ipython",
    "version": 3
   },
   "file_extension": ".py",
   "mimetype": "text/x-python",
   "name": "python",
   "nbconvert_exporter": "python",
   "pygments_lexer": "ipython3",
   "version": "3.10.5"
  }
 },
 "nbformat": 4,
 "nbformat_minor": 5
}
