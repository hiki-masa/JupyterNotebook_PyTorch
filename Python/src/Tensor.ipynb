{
 "cells": [
  {
   "cell_type": "code",
   "execution_count": 1,
   "id": "62c92fcd",
   "metadata": {},
   "outputs": [
    {
     "name": "stderr",
     "output_type": "stream",
     "text": [
      "/usr/local/lib/python3.10/site-packages/tqdm/auto.py:22: TqdmWarning: IProgress not found. Please update jupyter and ipywidgets. See https://ipywidgets.readthedocs.io/en/stable/user_install.html\n",
      "  from .autonotebook import tqdm as notebook_tqdm\n"
     ]
    }
   ],
   "source": [
    "import torch\n",
    "import numpy as np"
   ]
  },
  {
   "cell_type": "markdown",
   "id": "d1aa1143",
   "metadata": {},
   "source": [
    "# Tensorとは？\n",
    "- 多次元配列を扱うためのデータ構造\n",
    "- Numpyのndarrayとほぼ同様のAPIを有しており、GPUによる計算もサポートしている\n",
    "- PyTorchにおいてテンソルはGPU上でも使用できるため、処理速度の向上させることも可能"
   ]
  },
  {
   "cell_type": "markdown",
   "id": "d648c709",
   "metadata": {},
   "source": [
    "## Tensorの初期化"
   ]
  },
  {
   "cell_type": "code",
   "execution_count": 2,
   "id": "d9e260eb",
   "metadata": {},
   "outputs": [
    {
     "name": "stdout",
     "output_type": "stream",
     "text": [
      "tensor([[-1.0718e+20,  4.5555e-41,  6.0033e+08,  3.0967e-41,  1.4013e-45],\n",
      "        [ 0.0000e+00,  0.0000e+00,  0.0000e+00,  0.0000e+00,  0.0000e+00],\n",
      "        [ 0.0000e+00,  0.0000e+00,  6.0193e+08,  3.0967e-41,  2.0952e+08]])\n",
      "tensor([[0.0668, 0.3532, 0.5167, 0.8630, 0.4749],\n",
      "        [0.3916, 0.3439, 0.5391, 0.2951, 0.7480],\n",
      "        [0.2375, 0.0691, 0.3074, 0.7506, 0.8561]])\n",
      "tensor([5.5000, 3.0000])\n",
      "tensor([[0., 0., 0., 0., 0.],\n",
      "        [0., 0., 0., 0., 0.],\n",
      "        [0., 0., 0., 0., 0.]])\n",
      "tensor([[1, 1, 1, 1, 1],\n",
      "        [1, 1, 1, 1, 1],\n",
      "        [1, 1, 1, 1, 1]])\n",
      "Datatype of tensor : torch.int64\n",
      "tensor([[0.0168, 0.7704, 0.7298, 0.2490, 0.6084],\n",
      "        [0.6667, 0.0754, 0.7737, 0.1239, 0.6310],\n",
      "        [0.8604, 0.7511, 0.3920, 0.1591, 0.7148]])\n",
      "Using cpu device\n",
      "Device tensor is store on : cpu\n",
      "tensor([0, 1, 2, 3, 4, 5, 6, 7, 8, 9])\n"
     ]
    }
   ],
   "source": [
    "# 初期化されていない行列の作成\n",
    "print(torch.empty(3, 5))\n",
    "\n",
    "# 乱数によって初期化された行列の作成\n",
    "print(torch.rand(3, 5))\n",
    "\n",
    "# 数値を指定した行列の作成\n",
    "print(torch.tensor([5.5, 3]))\n",
    "\n",
    "# 数値0で初期化された行列の作成\n",
    "print(torch.zeros(3, 5))\n",
    "\n",
    "# long型の数値1で初期化された行列の作成\n",
    "print(torch.ones(3, 5, dtype = torch.long))\n",
    "\n",
    "# データタイプの確認\n",
    "print(f\"Datatype of tensor : {torch.ones(3, 5, dtype = torch.long).dtype}\")\n",
    "\n",
    "# deviceを指定することで CPU or GPU 上にTensorを作成する\n",
    "print(torch.rand(3, 5, device=\"cpu\"))\n",
    "\n",
    "# GPUが使用可能か確認する\n",
    "device = \"cuda\" if torch.cuda.is_available() else \"cpu\"\n",
    "print(f\"Using {device} device\")\n",
    "\n",
    "# GPUが使用可能であれば、GPU上にtensorを移動させる\n",
    "tensor = torch.rand(3, 5)\n",
    "if torch.cuda.is_available():\n",
    "    tensor = tensor.to(device)\n",
    "\n",
    "# Tensorがどこに格納されているか確認\n",
    "print(f\"Device tensor is store on : {tensor.device}\")\n",
    "\n",
    "# 0～9までの値で初期化された1次元行列の作成\n",
    "print(torch.arange(0, 10))"
   ]
  },
  {
   "cell_type": "markdown",
   "id": "0c7b8b43",
   "metadata": {},
   "source": [
    "## ndarrayとTensorの変換\n",
    "注：変換前の行列の値を変更すると、変更後の行列も値が変化する"
   ]
  },
  {
   "cell_type": "code",
   "execution_count": 3,
   "id": "e12d7200",
   "metadata": {},
   "outputs": [
    {
     "name": "stdout",
     "output_type": "stream",
     "text": [
      "numpy : \n",
      "[[0.44133776 0.8737482  0.4701659 ]\n",
      " [0.9902563  0.36201388 0.8337458 ]]\n",
      "tensor : \n",
      "tensor([[0.4413, 0.8737, 0.4702],\n",
      "        [0.9903, 0.3620, 0.8337]])\n"
     ]
    }
   ],
   "source": [
    "tensor = torch.rand(2, 3)\n",
    "# Tensor -> Numpy ndarray\n",
    "# 注：GPU上のtensorはCPU上に移動させる必要がある\n",
    "np_array = np.array(tensor)\n",
    "np_array = tensor.numpy()\n",
    "print(f\"numpy : \\n{np_array}\")\n",
    "\n",
    "# Numpy ndarray -> Tensor\n",
    "tensor = torch.from_numpy(np_array)\n",
    "print(f\"tensor : \\n{tensor}\")"
   ]
  },
  {
   "cell_type": "markdown",
   "id": "254e9461",
   "metadata": {},
   "source": [
    "## Tensorのインデンシング操作"
   ]
  },
  {
   "cell_type": "code",
   "execution_count": 4,
   "id": "5dec7490",
   "metadata": {},
   "outputs": [
    {
     "name": "stdout",
     "output_type": "stream",
     "text": [
      "tensor(0.5724)\n",
      "row(0) col(1) is value : 0.572383\n",
      "First row :  tensor([0.2294, 0.5724, 0.7280, 0.1621])\n",
      "First column :  tensor([0.2294, 0.5912, 0.5818, 0.7472])\n",
      "Last column  :  tensor([0.1621, 0.7307, 0.7044, 0.2186])\n",
      "tensor([[0.2294, 0.5724],\n",
      "        [0.5912, 0.3524],\n",
      "        [0.5818, 0.0786],\n",
      "        [0.7472, 0.1493]])\n",
      "tensor([[0.5724, 0.7280],\n",
      "        [0.3524, 0.3198],\n",
      "        [0.0786, 0.8107],\n",
      "        [0.1493, 0.2715]])\n",
      "tensor([0.5724, 0.7280, 0.5912, 0.7307, 0.5818, 0.8107, 0.7044, 0.7472])\n",
      "tensor([[2.2943e-01, 1.0000e+02, 7.2800e-01, 2.0000e+02],\n",
      "        [5.9116e-01, 3.5237e-01, 3.1978e-01, 2.0000e+02],\n",
      "        [5.8181e-01, 7.8574e-02, 8.1073e-01, 2.0000e+02],\n",
      "        [7.4720e-01, 1.4928e-01, 2.7153e-01, 2.0000e+02]])\n",
      "tensor([[0.2294, 1.0000, 1.0000, 1.0000],\n",
      "        [1.0000, 0.3524, 0.3198, 1.0000],\n",
      "        [1.0000, 0.0786, 1.0000, 1.0000],\n",
      "        [1.0000, 0.1493, 0.2715, 1.0000]])\n"
     ]
    }
   ],
   "source": [
    "tensor = torch.rand(4, 4)\n",
    "# インデックスを指定\n",
    "print(tensor[0, 1])\n",
    "\n",
    "# 中の値だけの取り出し\n",
    "print(f\"row(%d) col(%d) is value : %f\" % (0, 1, tensor[0, 1].item()))\n",
    "\n",
    "# 行の取り出し\n",
    "print(\"First row : \", tensor[0, :])\n",
    "\n",
    "# 列の取り出し\n",
    "print(\"First column : \", tensor[:, 0])\n",
    "print(\"Last column  : \", tensor[:, -1])\n",
    "\n",
    "# スライスでの取り出し\n",
    "print(tensor[:, :2])\n",
    "print(tensor[:, [1, 2]])\n",
    "\n",
    "# マスク配列を使用して特定の値より大きい部分のみを選択\n",
    "print(tensor[tensor > 0.5])\n",
    "\n",
    "# インデックス・スライスを使用した一括代入\n",
    "tensor[0, 1] = 100\n",
    "tensor[:, -1] = 200\n",
    "print(tensor)\n",
    "\n",
    "# 特定条件の要素のみ置換\n",
    "tensor[tensor > 0.5] = 1\n",
    "print(tensor)"
   ]
  },
  {
   "cell_type": "markdown",
   "id": "cc81ea8d",
   "metadata": {},
   "source": [
    "## Tensorのサイズ操作"
   ]
  },
  {
   "cell_type": "code",
   "execution_count": 5,
   "id": "92d6b368",
   "metadata": {},
   "outputs": [
    {
     "name": "stdout",
     "output_type": "stream",
     "text": [
      "torch.Size([2, 8])\n",
      "tensor([[0.3784, 0.1094, 0.3528, 0.3703, 0.2346, 0.9212, 0.3278, 0.0916],\n",
      "        [0.3153, 0.0667, 0.0118, 0.7822, 0.9578, 0.4243, 0.7888, 0.8291]])\n",
      "tensor([[0.3784, 0.1094, 0.3528, 0.3703, 0.2346, 0.9212, 0.3278, 0.0916, 0.3153,\n",
      "         0.0667, 0.0118, 0.7822, 0.9578, 0.4243, 0.7888, 0.8291]])\n",
      "tensor([[0.3784, 0.1094, 0.3528, 0.3703],\n",
      "        [0.2346, 0.9212, 0.3278, 0.0916],\n",
      "        [0.3153, 0.0667, 0.0118, 0.7822],\n",
      "        [0.9578, 0.4243, 0.7888, 0.8291]])\n",
      "tensor([[0.3784, 0.3153],\n",
      "        [0.1094, 0.0667],\n",
      "        [0.3528, 0.0118],\n",
      "        [0.3703, 0.7822],\n",
      "        [0.2346, 0.9578],\n",
      "        [0.9212, 0.4243],\n",
      "        [0.3278, 0.7888],\n",
      "        [0.0916, 0.8291]])\n",
      "tensor([[0.3784, 0.1094, 0.3528, 0.3703, 0.2346, 0.9212, 0.3278, 0.0916],\n",
      "        [0.3153, 0.0667, 0.0118, 0.7822, 0.9578, 0.4243, 0.7888, 0.8291],\n",
      "        [0.3784, 0.1094, 0.3528, 0.3703, 0.2346, 0.9212, 0.3278, 0.0916],\n",
      "        [0.3153, 0.0667, 0.0118, 0.7822, 0.9578, 0.4243, 0.7888, 0.8291]])\n"
     ]
    }
   ],
   "source": [
    "tensor = torch.rand(2, 8)\n",
    "# Tensorサイズ≒Tensorの形\n",
    "print(tensor.size())\n",
    "# リサイズ\n",
    "print(tensor)\n",
    "tensor1 = tensor.view(1, 16)\n",
    "print(tensor1)\n",
    "tensor2 = tensor.view(-1, 4) # -1を指定するとほかに指定した次元の値から自動で計算\n",
    "print(tensor2)\n",
    "\n",
    "# 転置\n",
    "print(tensor.t())\n",
    "\n",
    "# 結合\n",
    "print(torch.cat([tensor, tensor], dim = 0))"
   ]
  },
  {
   "cell_type": "markdown",
   "id": "9a440f0f",
   "metadata": {},
   "source": [
    "## Tensorの演算\n",
    "|演算子|説明|\n",
    "|:-----|:---|\n",
    "|dot|ベクトルの内積|\n",
    "|mv|行列とベクトルの積|\n",
    "|mm|行列と行列の積|\n",
    "|matmul|引数の種類によって自動的にdot, mv, mmを選択して実行|\n",
    "|gesv|LU分解による連立方程式の解|\n",
    "|eig, symeig|固有値分解（symeigは対称行列用のより効率の良いアルゴリズム）|\n",
    "|svd|特異値分解|"
   ]
  },
  {
   "cell_type": "markdown",
   "id": "29d91feb",
   "metadata": {},
   "source": [
    "### ベクトルの演算"
   ]
  },
  {
   "cell_type": "code",
   "execution_count": 6,
   "id": "425c9ceb",
   "metadata": {},
   "outputs": [
    {
     "name": "stdout",
     "output_type": "stream",
     "text": [
      "tensor([[5.5253, 5.3234, 5.3110]])\n",
      "tensor([[5.5253, 5.3234, 5.3110]])\n",
      "tensor([[5.5253, 5.3234, 5.3110]])\n",
      "tensor([[5.5253, 5.3234, 5.3110]])\n",
      "tensor([[30.5285, 28.3385, 28.2063]])\n",
      "tensor([[6.1814, 5.8849, 5.3206]])\n",
      "tensor([[60.9245, 58.9531, 59.1048]])\n"
     ]
    }
   ],
   "source": [
    "v1 = torch.rand([1, 3])\n",
    "v2 = torch.rand([1, 3])\n",
    "result = torch.zeros([1, 3])\n",
    "\n",
    "# ベクトルとスカラーの足し算\n",
    "print(v1 + 5)\n",
    "print(torch.add(v1, 5))\n",
    "print(torch.add(v1, 5, out = result)) # 出力先を引数で指定\n",
    "print(v1.add_(5)) # Tensorそのものの変更（ip-place：インプレース処理）\n",
    "\n",
    "# ベクトルの累乗\n",
    "print(v1 ** 2)\n",
    "\n",
    "# ベクトル同士の演算\n",
    "print(v1 + v2)\n",
    "\n",
    "# 複数の組み合わせ\n",
    "print(v1 * 10 - v2 / 2 + 6)"
   ]
  },
  {
   "cell_type": "markdown",
   "id": "701dd546",
   "metadata": {},
   "source": [
    "### 行列の演算"
   ]
  },
  {
   "cell_type": "code",
   "execution_count": 7,
   "id": "ed8a49ce",
   "metadata": {},
   "outputs": [
    {
     "name": "stdout",
     "output_type": "stream",
     "text": [
      "tensor([[0.3098, 1.5720, 0.1964],\n",
      "        [0.1727, 1.0217, 1.1465],\n",
      "        [0.5348, 0.4168, 0.0320],\n",
      "        [1.0469, 1.8089, 0.6708],\n",
      "        [1.0705, 0.4948, 1.2040]])\n",
      "tensor([[0.2196, 1.0209, 0.5182],\n",
      "        [0.1511, 0.7457, 0.9932],\n",
      "        [0.3321, 0.4433, 0.4360],\n",
      "        [0.5882, 1.1393, 0.7554],\n",
      "        [0.6000, 0.4823, 1.0220]])\n",
      "tensor([[0.9533, 1.7293, 0.3352],\n",
      "        [0.7810, 1.2795, 1.3210],\n",
      "        [0.4132, 0.9810, 0.0762],\n",
      "        [0.8034, 1.1286, 0.3799],\n",
      "        [0.8606, 0.3149, 1.3593]])\n",
      "tensor([[0.1237, 0.7414, 0.0233],\n",
      "        [0.0600, 0.3927, 0.4286],\n",
      "        [0.0390, 0.1610, 0.0010],\n",
      "        [0.1465, 0.2027, 0.0149],\n",
      "        [0.1741, 0.0167, 0.4559]])\n",
      "tensor([[0.8884, 0.7852, 0.6358, 0.2239, 0.1778],\n",
      "        [0.6866, 0.8813, 0.4418, 0.1642, 0.4967],\n",
      "        [0.4138, 0.3579, 0.2010, 0.1223, 0.1132],\n",
      "        [1.3505, 1.3096, 0.7953, 0.3642, 0.4853],\n",
      "        [0.8034, 1.0121, 0.3054, 0.2321, 0.6467]])\n"
     ]
    }
   ],
   "source": [
    "v = torch.rand(1, 3)\n",
    "x = torch.rand(5, 3)\n",
    "y = torch.rand(5, 3)\n",
    "result = torch.rand(5, 3)\n",
    "\n",
    "# 行列とスカラー\n",
    "print(x * 2.0)\n",
    "# 行列とベクトル\n",
    "print(x + v)\n",
    "# 行列同士\n",
    "print(x + y)\n",
    "print(x * y)\n",
    "print(x @ y.t())"
   ]
  },
  {
   "cell_type": "markdown",
   "id": "ac18cc82",
   "metadata": {},
   "source": [
    "### 数学関数"
   ]
  },
  {
   "cell_type": "code",
   "execution_count": 8,
   "id": "15c4c21a",
   "metadata": {},
   "outputs": [
    {
     "name": "stdout",
     "output_type": "stream",
     "text": [
      "tensor([0.6238, 0.3358, 0.5755, 0.3134, 0.5836])\n"
     ]
    }
   ],
   "source": [
    "X = torch.rand(3, 5)\n",
    "\n",
    "# 平均値\n",
    "m = torch.mean(X)\n",
    "m = X.mean()\n",
    "# 行ごとの平均値\n",
    "print(X.mean(0))"
   ]
  }
 ],
 "metadata": {
  "kernelspec": {
   "display_name": "Python 3 (ipykernel)",
   "language": "python",
   "name": "python3"
  },
  "language_info": {
   "codemirror_mode": {
    "name": "ipython",
    "version": 3
   },
   "file_extension": ".py",
   "mimetype": "text/x-python",
   "name": "python",
   "nbconvert_exporter": "python",
   "pygments_lexer": "ipython3",
   "version": "3.10.5"
  }
 },
 "nbformat": 4,
 "nbformat_minor": 5
}
