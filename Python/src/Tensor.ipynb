{
 "cells": [
  {
   "cell_type": "code",
   "execution_count": 1,
   "id": "62c92fcd",
   "metadata": {},
   "outputs": [],
   "source": [
    "import torch\n",
    "import numpy as np"
   ]
  },
  {
   "cell_type": "markdown",
   "id": "d1aa1143",
   "metadata": {},
   "source": [
    "# Tensorとは？\n",
    "- 多次元配列を扱うためのデータ構造\n",
    "- Numpyのndarrayとほぼ同様のAPIを有しており、GPUによる計算もサポートしている\n",
    "- PyTorchにおいてテンソルはGPU上でも使用できるため、処理速度の向上させることも可能"
   ]
  },
  {
   "cell_type": "markdown",
   "id": "d648c709",
   "metadata": {},
   "source": [
    "## Tensorの初期化"
   ]
  },
  {
   "cell_type": "code",
   "execution_count": 2,
   "id": "d9e260eb",
   "metadata": {},
   "outputs": [
    {
     "name": "stdout",
     "output_type": "stream",
     "text": [
      "tensor([[ 4.7881e+30,  4.5580e-41, -8.5924e+18,  3.0803e-41,  1.4013e-45],\n",
      "        [ 0.0000e+00,  0.0000e+00,  0.0000e+00,  6.7262e-44,  0.0000e+00],\n",
      "        [ 1.1210e-43,  0.0000e+00, -8.5961e+18,  3.0803e-41,  4.7881e+30]])\n",
      "tensor([[0.8877, 0.9545, 0.1466, 0.1674, 0.4090],\n",
      "        [0.4844, 0.4971, 0.8304, 0.2081, 0.2087],\n",
      "        [0.1803, 0.2332, 0.6525, 0.2482, 0.5982]])\n",
      "tensor([5.5000, 3.0000])\n",
      "tensor([[0., 0., 0., 0., 0.],\n",
      "        [0., 0., 0., 0., 0.],\n",
      "        [0., 0., 0., 0., 0.]])\n",
      "tensor([[1, 1, 1, 1, 1],\n",
      "        [1, 1, 1, 1, 1],\n",
      "        [1, 1, 1, 1, 1]])\n",
      "Datatype of tensor : torch.int64\n",
      "tensor([[0.7934, 0.6615, 0.0822, 0.5980, 0.6312],\n",
      "        [0.4985, 0.8193, 0.5423, 0.2523, 0.3432],\n",
      "        [0.5645, 0.4741, 0.3284, 0.0483, 0.8647]])\n",
      "Using cpu device\n",
      "Device tensor is store on : cpu\n",
      "tensor([0, 1, 2, 3, 4, 5, 6, 7, 8, 9])\n"
     ]
    }
   ],
   "source": [
    "# 初期化されていない行列の作成\n",
    "print(torch.empty(3, 5))\n",
    "\n",
    "# 乱数によって初期化された行列の作成\n",
    "print(torch.rand(3, 5))\n",
    "\n",
    "# 数値を指定した行列の作成\n",
    "print(torch.tensor([5.5, 3]))\n",
    "\n",
    "# 数値0で初期化された行列の作成\n",
    "print(torch.zeros(3, 5))\n",
    "\n",
    "# long型の数値1で初期化された行列の作成\n",
    "print(torch.ones(3, 5, dtype = torch.long))\n",
    "\n",
    "# データタイプの確認\n",
    "print(f\"Datatype of tensor : {torch.ones(3, 5, dtype = torch.long).dtype}\")\n",
    "\n",
    "# deviceを指定することで CPU or GPU 上にTensorを作成する\n",
    "print(torch.rand(3, 5, device=\"cpu\"))\n",
    "\n",
    "# GPUが使用可能か確認する\n",
    "device = \"cuda\" if torch.cuda.is_available() else \"cpu\"\n",
    "print(f\"Using {device} device\")\n",
    "\n",
    "# GPUが使用可能であれば、GPU上にtensorを移動させる\n",
    "tensor = torch.rand(3, 5)\n",
    "if torch.cuda.is_available():\n",
    "    tensor = tensor.to(device)\n",
    "\n",
    "# Tensorがどこに格納されているか確認\n",
    "print(f\"Device tensor is store on : {tensor.device}\")\n",
    "\n",
    "# 0～9までの値で初期化された1次元行列の作成\n",
    "print(torch.arange(0, 10))"
   ]
  },
  {
   "cell_type": "markdown",
   "id": "0c7b8b43",
   "metadata": {},
   "source": [
    "## ndarrayとTensorの変換\n",
    "注：変換前の行列の値を変更すると、変更後の行列も値が変化する"
   ]
  },
  {
   "cell_type": "code",
   "execution_count": 3,
   "id": "e12d7200",
   "metadata": {},
   "outputs": [
    {
     "name": "stdout",
     "output_type": "stream",
     "text": [
      "numpy : \n",
      "[[0.9219655  0.12488121 0.50690705]\n",
      " [0.9741791  0.4045003  0.8102489 ]]\n",
      "tensor : \n",
      "tensor([[0.9220, 0.1249, 0.5069],\n",
      "        [0.9742, 0.4045, 0.8102]])\n"
     ]
    }
   ],
   "source": [
    "tensor = torch.rand(2, 3)\n",
    "# Tensor -> Numpy ndarray\n",
    "# 注：GPU上のtensorはCPU上に移動させる必要がある\n",
    "np_array = np.array(tensor)\n",
    "np_array = tensor.numpy()\n",
    "print(f\"numpy : \\n{np_array}\")\n",
    "\n",
    "# Numpy ndarray -> Tensor\n",
    "tensor = torch.from_numpy(np_array)\n",
    "print(f\"tensor : \\n{tensor}\")"
   ]
  },
  {
   "cell_type": "markdown",
   "id": "254e9461",
   "metadata": {},
   "source": [
    "## Tensorのインデンシング操作"
   ]
  },
  {
   "cell_type": "code",
   "execution_count": 4,
   "id": "5dec7490",
   "metadata": {},
   "outputs": [
    {
     "name": "stdout",
     "output_type": "stream",
     "text": [
      "tensor(0.4623)\n",
      "row(0) col(1) is value : 0.462330\n",
      "First row :  tensor([0.3626, 0.4623, 0.2268, 0.3846])\n",
      "First column :  tensor([0.3626, 0.3774, 0.4656, 0.5247])\n",
      "Last column  :  tensor([0.3846, 0.7911, 0.5013, 0.7159])\n",
      "tensor([[0.3626, 0.4623],\n",
      "        [0.3774, 0.9863],\n",
      "        [0.4656, 0.8035],\n",
      "        [0.5247, 0.1890]])\n",
      "tensor([[0.4623, 0.2268],\n",
      "        [0.9863, 0.6810],\n",
      "        [0.8035, 0.7460],\n",
      "        [0.1890, 0.3204]])\n",
      "tensor([0.9863, 0.6810, 0.7911, 0.8035, 0.7460, 0.5013, 0.5247, 0.7159])\n",
      "tensor([[3.6256e-01, 1.0000e+02, 2.2677e-01, 2.0000e+02],\n",
      "        [3.7736e-01, 9.8631e-01, 6.8098e-01, 2.0000e+02],\n",
      "        [4.6560e-01, 8.0354e-01, 7.4602e-01, 2.0000e+02],\n",
      "        [5.2468e-01, 1.8903e-01, 3.2043e-01, 2.0000e+02]])\n",
      "tensor([[0.3626, 1.0000, 0.2268, 1.0000],\n",
      "        [0.3774, 1.0000, 1.0000, 1.0000],\n",
      "        [0.4656, 1.0000, 1.0000, 1.0000],\n",
      "        [1.0000, 0.1890, 0.3204, 1.0000]])\n"
     ]
    }
   ],
   "source": [
    "tensor = torch.rand(4, 4)\n",
    "# インデックスを指定\n",
    "print(tensor[0, 1])\n",
    "\n",
    "# 中の値だけの取り出し\n",
    "print(f\"row(%d) col(%d) is value : %f\" % (0, 1, tensor[0, 1].item()))\n",
    "\n",
    "# 行の取り出し\n",
    "print(\"First row : \", tensor[0, :])\n",
    "\n",
    "# 列の取り出し\n",
    "print(\"First column : \", tensor[:, 0])\n",
    "print(\"Last column  : \", tensor[:, -1])\n",
    "\n",
    "# スライスでの取り出し\n",
    "print(tensor[:, :2])\n",
    "print(tensor[:, [1, 2]])\n",
    "\n",
    "# マスク配列を使用して特定の値より大きい部分のみを選択\n",
    "print(tensor[tensor > 0.5])\n",
    "\n",
    "# インデックス・スライスを使用した一括代入\n",
    "tensor[0, 1] = 100\n",
    "tensor[:, -1] = 200\n",
    "print(tensor)\n",
    "\n",
    "# 特定条件の要素のみ置換\n",
    "tensor[tensor > 0.5] = 1\n",
    "print(tensor)"
   ]
  },
  {
   "cell_type": "markdown",
   "id": "cc81ea8d",
   "metadata": {},
   "source": [
    "## Tensorのサイズ操作"
   ]
  },
  {
   "cell_type": "code",
   "execution_count": 5,
   "id": "92d6b368",
   "metadata": {},
   "outputs": [
    {
     "name": "stdout",
     "output_type": "stream",
     "text": [
      "torch.Size([2, 8])\n",
      "tensor([[0.0812, 0.8208, 0.3800, 0.0849, 0.1101, 0.4861, 0.8190, 0.6336],\n",
      "        [0.4037, 0.9772, 0.4007, 0.9345, 0.7949, 0.2657, 0.9310, 0.8817]])\n",
      "tensor([[0.0812, 0.8208, 0.3800, 0.0849, 0.1101, 0.4861, 0.8190, 0.6336, 0.4037,\n",
      "         0.9772, 0.4007, 0.9345, 0.7949, 0.2657, 0.9310, 0.8817]])\n",
      "tensor([[0.0812, 0.8208, 0.3800, 0.0849],\n",
      "        [0.1101, 0.4861, 0.8190, 0.6336],\n",
      "        [0.4037, 0.9772, 0.4007, 0.9345],\n",
      "        [0.7949, 0.2657, 0.9310, 0.8817]])\n",
      "tensor([[0.0812, 0.4037],\n",
      "        [0.8208, 0.9772],\n",
      "        [0.3800, 0.4007],\n",
      "        [0.0849, 0.9345],\n",
      "        [0.1101, 0.7949],\n",
      "        [0.4861, 0.2657],\n",
      "        [0.8190, 0.9310],\n",
      "        [0.6336, 0.8817]])\n",
      "tensor([[0.0812, 0.8208, 0.3800, 0.0849, 0.1101, 0.4861, 0.8190, 0.6336],\n",
      "        [0.4037, 0.9772, 0.4007, 0.9345, 0.7949, 0.2657, 0.9310, 0.8817],\n",
      "        [0.0812, 0.8208, 0.3800, 0.0849, 0.1101, 0.4861, 0.8190, 0.6336],\n",
      "        [0.4037, 0.9772, 0.4007, 0.9345, 0.7949, 0.2657, 0.9310, 0.8817]])\n"
     ]
    }
   ],
   "source": [
    "tensor = torch.rand(2, 8)\n",
    "# Tensorサイズ≒Tensorの形\n",
    "print(tensor.size())\n",
    "# リサイズ\n",
    "print(tensor)\n",
    "tensor1 = tensor.view(1, 16)\n",
    "print(tensor1)\n",
    "tensor2 = tensor.view(-1, 4) # -1を指定するとほかに指定した次元の値から自動で計算\n",
    "print(tensor2)\n",
    "\n",
    "# 転置\n",
    "print(tensor.t())\n",
    "\n",
    "# 結合\n",
    "print(torch.cat([tensor, tensor], dim = 0))"
   ]
  },
  {
   "cell_type": "markdown",
   "id": "9a440f0f",
   "metadata": {},
   "source": [
    "## Tensorの演算\n",
    "|演算子|説明|\n",
    "|:-----|:---|\n",
    "|dot|ベクトルの内積|\n",
    "|mv|行列とベクトルの積|\n",
    "|mm|行列と行列の積|\n",
    "|matmul|引数の種類によって自動的にdot, mv, mmを選択して実行|\n",
    "|gesv|LU分解による連立方程式の解|\n",
    "|eig, symeig|固有値分解（symeigは対称行列用のより効率の良いアルゴリズム）|\n",
    "|svd|特異値分解|"
   ]
  },
  {
   "cell_type": "markdown",
   "id": "29d91feb",
   "metadata": {},
   "source": [
    "### ベクトルの演算"
   ]
  },
  {
   "cell_type": "code",
   "execution_count": 6,
   "id": "425c9ceb",
   "metadata": {},
   "outputs": [
    {
     "name": "stdout",
     "output_type": "stream",
     "text": [
      "tensor([[5.9163, 5.6644, 5.6165]])\n",
      "tensor([[5.9163, 5.6644, 5.6165]])\n",
      "tensor([[5.9163, 5.6644, 5.6165]])\n",
      "tensor([[5.9163, 5.6644, 5.6165]])\n",
      "tensor([[35.0028, 32.0849, 31.5454]])\n",
      "tensor([[6.7727, 6.1339, 5.9020]])\n",
      "tensor([[64.7350, 62.4088, 62.0225]])\n"
     ]
    }
   ],
   "source": [
    "v1 = torch.rand([1, 3])\n",
    "v2 = torch.rand([1, 3])\n",
    "result = torch.zeros([1, 3])\n",
    "\n",
    "# ベクトルとスカラーの足し算\n",
    "print(v1 + 5)\n",
    "print(torch.add(v1, 5))\n",
    "print(torch.add(v1, 5, out = result)) # 出力先を引数で指定\n",
    "print(v1.add_(5)) # Tensorそのものの変更（ip-place：インプレース処理）\n",
    "\n",
    "# ベクトルの累乗\n",
    "print(v1 ** 2)\n",
    "\n",
    "# ベクトル同士の演算\n",
    "print(v1 + v2)\n",
    "\n",
    "# 複数の組み合わせ\n",
    "print(v1 * 10 - v2 / 2 + 6)"
   ]
  },
  {
   "cell_type": "markdown",
   "id": "701dd546",
   "metadata": {},
   "source": [
    "### 行列の演算"
   ]
  },
  {
   "cell_type": "code",
   "execution_count": 7,
   "id": "ed8a49ce",
   "metadata": {},
   "outputs": [
    {
     "name": "stdout",
     "output_type": "stream",
     "text": [
      "tensor([[1.0052, 0.3446, 1.0514],\n",
      "        [1.7925, 0.8667, 1.0488],\n",
      "        [0.0190, 0.2442, 0.8130],\n",
      "        [1.6858, 0.7823, 0.9329],\n",
      "        [1.5835, 0.2748, 1.0573]])\n",
      "tensor([[1.1914, 0.5841, 0.9183],\n",
      "        [1.5851, 0.8452, 0.9170],\n",
      "        [0.6983, 0.5339, 0.7991],\n",
      "        [1.5317, 0.8030, 0.8590],\n",
      "        [1.4805, 0.5492, 0.9213]])\n",
      "tensor([[1.0204, 0.8031, 1.1890],\n",
      "        [1.8774, 0.9112, 1.1768],\n",
      "        [0.0110, 0.4524, 0.4300],\n",
      "        [1.7430, 0.6463, 1.4525],\n",
      "        [1.2001, 1.0730, 1.3931]])\n",
      "tensor([[2.6026e-01, 1.0870e-01, 3.4869e-01],\n",
      "        [8.7935e-01, 2.0710e-01, 3.4211e-01],\n",
      "        [1.3921e-05, 4.0321e-02, 9.5585e-03],\n",
      "        [7.5873e-01, 9.9801e-02, 4.5993e-01],\n",
      "        [3.2328e-01, 1.2856e-01, 4.5700e-01]])\n",
      "tensor([[0.7176, 0.9184, 0.0700, 1.0147, 0.8209],\n",
      "        [1.0853, 1.4285, 0.1568, 1.4344, 1.2248],\n",
      "        [0.3516, 0.3329, 0.0499, 0.4405, 0.4695],\n",
      "        [0.9926, 1.3182, 0.1414, 1.3185, 1.1134],\n",
      "        [0.8473, 1.1873, 0.0590, 1.2690, 0.9088]])\n"
     ]
    }
   ],
   "source": [
    "v = torch.rand(1, 3)\n",
    "x = torch.rand(5, 3)\n",
    "y = torch.rand(5, 3)\n",
    "result = torch.rand(5, 3)\n",
    "\n",
    "# 行列とスカラー\n",
    "print(x * 2.0)\n",
    "# 行列とベクトル\n",
    "print(x + v)\n",
    "# 行列同士\n",
    "print(x + y)\n",
    "print(x * y)\n",
    "print(x @ y.t())"
   ]
  },
  {
   "cell_type": "markdown",
   "id": "ac18cc82",
   "metadata": {},
   "source": [
    "### 数学関数"
   ]
  },
  {
   "cell_type": "code",
   "execution_count": 8,
   "id": "15c4c21a",
   "metadata": {},
   "outputs": [
    {
     "name": "stdout",
     "output_type": "stream",
     "text": [
      "tensor([0.6613, 0.5746, 0.3289, 0.4664, 0.5557])\n"
     ]
    }
   ],
   "source": [
    "X = torch.rand(3, 5)\n",
    "\n",
    "# 平均値\n",
    "m = torch.mean(X)\n",
    "m = X.mean()\n",
    "# 行ごとの平均値\n",
    "print(X.mean(0))"
   ]
  }
 ],
 "metadata": {
  "kernelspec": {
   "display_name": "Python 3 (ipykernel)",
   "language": "python",
   "name": "python3"
  },
  "language_info": {
   "codemirror_mode": {
    "name": "ipython",
    "version": 3
   },
   "file_extension": ".py",
   "mimetype": "text/x-python",
   "name": "python",
   "nbconvert_exporter": "python",
   "pygments_lexer": "ipython3",
   "version": "3.10.5"
  }
 },
 "nbformat": 4,
 "nbformat_minor": 5
}
