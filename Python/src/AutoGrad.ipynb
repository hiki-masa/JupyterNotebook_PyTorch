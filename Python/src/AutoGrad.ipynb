{
 "cells": [
  {
   "cell_type": "code",
   "execution_count": 1,
   "id": "54a06de1",
   "metadata": {},
   "outputs": [],
   "source": [
    "import torch\n",
    "import torch.nn as nn\n",
    "import numpy as np"
   ]
  },
  {
   "cell_type": "markdown",
   "id": "1a2911fb",
   "metadata": {},
   "source": [
    "# AutoGrad：自動微分\n",
    "`.requires_grad`属性が`True`に設定された場合、すべての操作が追跡される<br>\n",
    "各Tensorは、そのTensorを作成した`Function`を参照する`.grad_fn`属性を持つ<br>\n",
    "演算終了時には`.backward()`を呼び出すことで、すべての操作に対する勾配が自動的に計算される<br>\n",
    "Tensorに対する勾配は`.grad`属性に蓄積されている<br>\n",
    "追跡を停止する場合は、`.detach()`を呼び出すことで、その後の演算でこのTensorは追跡されなくなる<br>"
   ]
  },
  {
   "cell_type": "markdown",
   "id": "bc8b9b05",
   "metadata": {},
   "source": [
    "## 誤差逆伝搬\n",
    "各関数の層ごとで伝搬していけば、各値を求めることができる\n",
    "\n",
    "<img src=\"data:image/png;base64,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\" style=\"cursor:pointer;max-width:100%;\" onclick=\"(function(img){if(img.wnd!=null&&!img.wnd.closed){img.wnd.focus();}else{var r=function(evt){if(evt.data=='ready'&&evt.source==img.wnd){img.wnd.postMessage(decodeURIComponent(img.getAttribute('src')),'*');window.removeEventListener('message',r);}};window.addEventListener('message',r);img.wnd=window.open('https://www.draw.io/?client=1&lightbox=1&edit=_blank');}})(this);\"/>\n",
    "黒線：順伝搬<br>\n",
    "<span style = \"color: red;\">赤線</span>：逆伝搬"
   ]
  },
  {
   "cell_type": "code",
   "execution_count": 2,
   "id": "fda29744",
   "metadata": {},
   "outputs": [],
   "source": [
    "class Square:\n",
    "    def forward(self, x):\n",
    "        self.x = x\n",
    "        return self.x**2\n",
    "    \n",
    "    def backward(self, dy):\n",
    "        return dy * (2 * self.x)"
   ]
  },
  {
   "cell_type": "code",
   "execution_count": 3,
   "id": "96127a6b",
   "metadata": {},
   "outputs": [],
   "source": [
    "class Log:    \n",
    "    def forward(self, x):\n",
    "        self.x = x\n",
    "        return np.log(x)\n",
    "    \n",
    "    def backward(self, dy):\n",
    "        return dy * (1 / self.x)"
   ]
  },
  {
   "cell_type": "code",
   "execution_count": 4,
   "id": "d959ecd4",
   "metadata": {},
   "outputs": [],
   "source": [
    "square1 = Square()\n",
    "log = Log()\n",
    "square2 = Square()"
   ]
  },
  {
   "cell_type": "markdown",
   "id": "0119e0cb",
   "metadata": {},
   "source": [
    "### 順伝搬\n",
    "$y_1 = x^2$<br>\n",
    "$y_2 = \\log{y_1}$<br>\n",
    "$y_3 = y_2^2 = (\\log{x^2})^2$<br>"
   ]
  },
  {
   "cell_type": "code",
   "execution_count": 5,
   "id": "5881ec43",
   "metadata": {},
   "outputs": [
    {
     "name": "stdout",
     "output_type": "stream",
     "text": [
      "y1 : 4.000000\n",
      "y2 : 1.386294\n",
      "y3 : 1.921812\n"
     ]
    }
   ],
   "source": [
    "x = 2\n",
    "\n",
    "y1 = square1.forward(x)\n",
    "y2 = log.forward(y1)\n",
    "y3 = square2.forward(y2)\n",
    "print(\"y1 : %f\\ny2 : %f\\ny3 : %f\" % (y1, y2, y3))"
   ]
  },
  {
   "cell_type": "markdown",
   "id": "ee11ca84",
   "metadata": {},
   "source": [
    "### 逆伝搬\n",
    "$\\frac{d y_3}{d y_2} = 2 y_2$<br>\n",
    "$\\frac{d y_3}{d y_1} = \\frac{d y_3}{d y_2}\\frac{d y_2}{d y_1} = 2 y_2\\cdot \\frac{1}{y_1} $<br>\n",
    "$\\frac{d y_3}{d x} = \\frac{d y_3}{d y_2}\\frac{d y_2}{d y_1}\\frac{d y_1}{d x} = 2 y_2 \\cdot \\frac{1}{y_1} \\cdot 2 x$"
   ]
  },
  {
   "cell_type": "code",
   "execution_count": 6,
   "id": "7c8b5a2c",
   "metadata": {},
   "outputs": [
    {
     "name": "stdout",
     "output_type": "stream",
     "text": [
      "dy2 : 2.772589\n",
      "dy1 : 0.693147\n",
      "dx  : 2.772589\n",
      "\n"
     ]
    }
   ],
   "source": [
    "dy2 = square2.backward(1)\n",
    "dy1 = log.backward(dy2)\n",
    "dx  = square1.backward(dy1)\n",
    "print(\"dy2 : %f\\ndy1 : %f\\ndx  : %f\\n\" % (dy2, dy1, dx))"
   ]
  },
  {
   "cell_type": "markdown",
   "id": "b570cd54",
   "metadata": {},
   "source": [
    "## 自動微分を用いた誤差逆伝搬 (1)\n",
    "$y = w x + b$<br>\n",
    "$w.grad = \\frac{\\partial y}{\\partial w}\n",
    "= \\frac{\\partial (w x + b)}{\\partial w}\n",
    "= \\frac{\\partial w x}{\\partial w} + \\frac{\\partial b}{\\partial w}\n",
    "= x + 0\n",
    "= x$<br>\n",
    "$b.grad = \\frac{\\partial y}{\\partial b}\n",
    "= \\frac{\\partial (w x + b)}{\\partial b}\n",
    "= \\frac{\\partial w x}{\\partial b} + \\frac{\\partial b}{\\partial b}\n",
    "= 0 + 1\n",
    "= 1$<br>\n",
    "`.grad`が表す値は、対象の微分変数が1変化した際、どの程度yが変化するかを表している"
   ]
  },
  {
   "cell_type": "code",
   "execution_count": 7,
   "id": "9303d1ff",
   "metadata": {},
   "outputs": [
    {
     "name": "stdout",
     "output_type": "stream",
     "text": [
      "tensor(35., dtype=torch.float64, grad_fn=<AddBackward0>)\n",
      "w.grad : 10.0\n",
      "b.grad : 1.0\n"
     ]
    }
   ],
   "source": [
    "# 微分の変数として扱う場合は、requires_gradフラグをTrueにする\n",
    "x = torch.tensor(10)\n",
    "w = torch.tensor(3, requires_grad = True, dtype = torch.float64)\n",
    "b = torch.tensor(5, requires_grad = True, dtype = torch.float64)\n",
    "\n",
    "y = w * x + b\n",
    "print(y) # 計算履歴としてgrad_fn属性を持っており、どのような計算が行われたか確認できる\n",
    "\n",
    "y.backward()\n",
    "print(f\"w.grad : {w.grad.item()}\")\n",
    "print(f\"b.grad : {b.grad.item()}\")"
   ]
  },
  {
   "cell_type": "markdown",
   "id": "827b9014",
   "metadata": {},
   "source": [
    "### ライブラリ使用\n",
    "`nn.Linear(in_features, out_features, bias, device=None, dtype=None)`\n",
    "- `in_features`  : 各入力サンプルのサイズ \n",
    "- `out_features` : 各出力サンプルのサイズ\n",
    "- `bias`         : Falseにするとバイアスを設定しない、デフォルトではTrue"
   ]
  },
  {
   "cell_type": "code",
   "execution_count": 8,
   "id": "48c9f077",
   "metadata": {},
   "outputs": [
    {
     "name": "stdout",
     "output_type": "stream",
     "text": [
      "w.grad : 10.0\n",
      "b.grad : 1.0\n"
     ]
    }
   ],
   "source": [
    "x = torch.tensor([10]).unsqueeze(1).float()\n",
    "\n",
    "linear = nn.Linear(1, 1) # 入力と出力が1次元\n",
    "y = linear(x)\n",
    "\n",
    "y.backward()\n",
    "print(f\"w.grad : {linear.weight.grad.item()}\")\n",
    "print(f\"b.grad : {linear.bias.grad.item()}\")"
   ]
  },
  {
   "cell_type": "markdown",
   "id": "be784afd",
   "metadata": {},
   "source": [
    "## 自動微分を用いた誤差逆伝搬 (2)\n",
    "$L = \\frac{1}{N} \\sum_{n} (y_n - t_n)^2$<br>\n",
    "$w.grad = \\frac{\\partial L}{\\partial w}\n",
    "= \\frac{\\partial L}{\\partial y} \\frac{\\partial y}{\\partial w}\n",
    "= \\frac{1}{N} \\cdot \\sum_{n} (2(y_n - t_n) \\cdot x_n)$<br>\n",
    "$b.grad = \\frac{\\partial L}{\\partial b}\n",
    "= \\frac{\\partial L}{\\partial y} \\frac{\\partial y}{\\partial b}\n",
    "= \\frac{1}{N} \\sum_{n} (2(y_n - t_n) \\cdot 1)$"
   ]
  },
  {
   "cell_type": "code",
   "execution_count": 9,
   "id": "8534b285",
   "metadata": {},
   "outputs": [
    {
     "name": "stdout",
     "output_type": "stream",
     "text": [
      "w.grad : 72.0\n",
      "b.grad : 6.000000000000001\n"
     ]
    }
   ],
   "source": [
    "x = torch.tensor([10, 11, 12, 13, 14])\n",
    "w = torch.tensor(3, requires_grad = True, dtype = torch.float64)\n",
    "b = torch.tensor(5, requires_grad = True, dtype = torch.float64)\n",
    "t = torch.tensor([32, 35, 38, 41, 44])\n",
    "\n",
    "def MSE(y, t):\n",
    "    sum = 0\n",
    "    for (_y, _t) in zip(y, t):\n",
    "        sum += (_y - _t)**2\n",
    "    return sum / len(y)\n",
    "\n",
    "y = w * x + b\n",
    "L = MSE(y, t)\n",
    "\n",
    "L.backward()\n",
    "print(f\"w.grad : {w.grad}\")\n",
    "print(f\"b.grad : {b.grad}\")"
   ]
  },
  {
   "cell_type": "markdown",
   "id": "86a55c4a",
   "metadata": {},
   "source": [
    "### ライブラリ使用\n",
    "`nn.MSELoss(size_average=None, reduce=None, reduction=\"mean\")`<br>\n",
    "入力内の各要素間の平均二乗誤差（L2ノルム）を測定"
   ]
  },
  {
   "cell_type": "code",
   "execution_count": 10,
   "id": "a3d42385",
   "metadata": {},
   "outputs": [
    {
     "name": "stdout",
     "output_type": "stream",
     "text": [
      "w.grad : 72.00000762939453\n",
      "b.grad : 6.0\n"
     ]
    }
   ],
   "source": [
    "x = torch.tensor([10, 11, 12, 13, 14]).unsqueeze(1).float()\n",
    "t = torch.tensor([32, 35, 38, 41, 44]).unsqueeze(1).float()\n",
    "\n",
    "linear = nn.Linear(1, 1)\n",
    "linear.weight = nn.Parameter(torch.tensor([[3.0]]))\n",
    "linear.bias = nn.Parameter(torch.tensor([[5.0]]))\n",
    "MSE = nn.MSELoss()\n",
    "\n",
    "y = linear(x)\n",
    "L = MSE(y, t)\n",
    "\n",
    "L.backward()\n",
    "print(f\"w.grad : {linear.weight.grad.item()}\")\n",
    "print(f\"b.grad : {linear.bias.grad.item()}\")"
   ]
  }
 ],
 "metadata": {
  "kernelspec": {
   "display_name": "Python 3 (ipykernel)",
   "language": "python",
   "name": "python3"
  },
  "language_info": {
   "codemirror_mode": {
    "name": "ipython",
    "version": 3
   },
   "file_extension": ".py",
   "mimetype": "text/x-python",
   "name": "python",
   "nbconvert_exporter": "python",
   "pygments_lexer": "ipython3",
   "version": "3.10.5"
  }
 },
 "nbformat": 4,
 "nbformat_minor": 5
}
