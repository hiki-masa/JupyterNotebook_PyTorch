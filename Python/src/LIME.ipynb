{
 "cells": [
  {
   "cell_type": "markdown",
   "id": "2251126a",
   "metadata": {},
   "source": [
    "# LIME"
   ]
  },
  {
   "cell_type": "code",
   "execution_count": 1,
   "id": "5861c6a5",
   "metadata": {},
   "outputs": [
    {
     "name": "stderr",
     "output_type": "stream",
     "text": [
      "/usr/local/lib/python3.10/site-packages/tqdm/auto.py:22: TqdmWarning: IProgress not found. Please update jupyter and ipywidgets. See https://ipywidgets.readthedocs.io/en/stable/user_install.html\n",
      "  from .autonotebook import tqdm as notebook_tqdm\n"
     ]
    }
   ],
   "source": [
    "%matplotlib inline\n",
    "import torch\n",
    "from torch import nn\n",
    "import torch.nn.functional as F\n",
    "import torchvision\n",
    "import torchvision.transforms as transforms\n",
    "from torch.utils.data import DataLoader\n",
    "import matplotlib.pyplot as plt\n",
    "import numpy as np\n",
    "from lime import lime_image\n",
    "from lime.wrappers.scikit_image import SegmentationAlgorithm"
   ]
  },
  {
   "cell_type": "markdown",
   "id": "62edcb72",
   "metadata": {},
   "source": [
    "## MNISTデータセット"
   ]
  },
  {
   "cell_type": "code",
   "execution_count": 2,
   "id": "e0fb64f7",
   "metadata": {},
   "outputs": [
    {
     "data": {
      "text/plain": [
       "Text(0.5, 1.0, 'Digit : 5')"
      ]
     },
     "execution_count": 2,
     "metadata": {},
     "output_type": "execute_result"
    },
    {
     "data": {
      "image/png": "[encoded data removed]",
      "text/plain": [
       "<Figure size 432x288 with 1 Axes>"
      ]
     },
     "metadata": {
      "needs_background": "light"
     },
     "output_type": "display_data"
    }
   ],
   "source": [
    "train_data = torchvision.datasets.MNIST(\n",
    "    root = \"../data\",\n",
    "    train = True,\n",
    "    download = True,\n",
    "    transform = transforms.ToTensor()\n",
    ")\n",
    "test_data = torchvision.datasets.MNIST(\n",
    "    root = \"../data\",\n",
    "    train = False,\n",
    "    download = True,\n",
    "    transform = transforms.ToTensor()\n",
    ")\n",
    "train_dataloader = DataLoader(train_data, batch_size = 64, shuffle = True)\n",
    "test_dataloader = DataLoader(test_data, batch_size = 64, shuffle = True)\n",
    "# 辞書型変数にまとめると学習・検証の実施時に扱いやすくなる\n",
    "dataloaders_dict = {\"train\" : train_dataloader, \"test\" : test_dataloader}\n",
    "# イテレータに変換\n",
    "batch_iterator = iter(dataloaders_dict[\"train\"])\n",
    "# 要素を取り出す\n",
    "imgs, labels = next(batch_iterator)\n",
    "fig, ax1 = plt.subplots(1, 1)\n",
    "ax1.imshow(imgs[0].squeeze().numpy(), cmap = \"gray\")\n",
    "ax1.set_title(f\"Digit : {labels[0]}\")"
   ]
  },
  {
   "cell_type": "code",
   "execution_count": 3,
   "id": "61ecfc3d",
   "metadata": {},
   "outputs": [],
   "source": [
    "class CNN(nn.Module):\n",
    "    def __init__(self):\n",
    "        super(CNN, self).__init__()\n",
    "        \n",
    "        self.loss_train_log = []\n",
    "        self.loss_test_log = []\n",
    "        self.acc_train_log = []\n",
    "        self.acc_test_log = []\n",
    "        \n",
    "        # 1つの入力画像チャンネル、4 x 4の正方形畳み込み、32つの出力チャンネル\n",
    "        self.Conv1 = nn.Conv2d( 1, 32, kernel_size = (4, 4), stride = (2, 2), padding = 1)\n",
    "        # 32つの入力画像チャンネル、4 x 4の正方形畳み込み、64つの出力チャンネル\n",
    "        self.Conv2 = nn.Conv2d(32, 64, kernel_size = (4, 4), stride = (2, 2), padding = 1)\n",
    "        self.linear1 = nn.Linear(64 * 3 * 3, 128)\n",
    "        self.linear2 = nn.Linear(128, 10)\n",
    "        \n",
    "        # 誤差関数の設定\n",
    "        self.loss = nn.CrossEntropyLoss() \n",
    "        # 最適化手法の設定\n",
    "        self.optimizer = optim.SGD(self.parameters(), lr = 1e-2)\n",
    "        \n",
    "    def forward(self, x):\n",
    "        x = self.Conv1(x) # Size : 1 x 28 x 28 -> 32 x 14 x 14\n",
    "        x = torch.relu(x)\n",
    "        x = self.Conv2(x) # Size : 32 x 14 x 14 -> 64 x 7 x 7\n",
    "        x = torch.relu(x)\n",
    "        x = F.max_pool2d(x, 2) # 指定サイズの範囲内で最大の値を抽出する(Size : 64 x 7 x 7 -> 64 x 3 x 3)\n",
    "        x = x.view(-1, 64 * 3 * 3) # ベクトルに変換\n",
    "        x = self.linear1(x)\n",
    "        x = torch.relu(x)\n",
    "        return self.linear2(x)\n",
    "\n",
    "# 学習済みモデルの読み込み\n",
    "model = torch.load(\"../model/cnn_mnist.pth\")"
   ]
  },
  {
   "cell_type": "code",
   "execution_count": 4,
   "id": "07c9545e",
   "metadata": {},
   "outputs": [
    {
     "data": {
      "image/png": "[encoded data removed]",
      "text/plain": [
       "<Figure size 576x576 with 9 Axes>"
      ]
     },
     "metadata": {
      "needs_background": "light"
     },
     "output_type": "display_data"
    }
   ],
   "source": [
    "# 推論結果の表示\n",
    "figure = plt.figure(figsize = (8, 8))\n",
    "rows, cols = 3, 3\n",
    "for i in range(rows * cols):\n",
    "    idx = torch.randint(low = 0, high = len(imgs), size = (1, 1)).item()\n",
    "    # データの取得\n",
    "    img, label = imgs[idx], labels[idx]\n",
    "    figure.add_subplot(cols, rows, i + 1)\n",
    "    plt.title(f\"Ans : {label.item()} Output : {model(img).argmax(axis=1).item()}\")\n",
    "    plt.axis(\"off\")\n",
    "    plt.imshow(img.squeeze().numpy(), cmap = \"gray\")\n",
    "plt.show()"
   ]
  },
  {
   "cell_type": "code",
   "execution_count": 5,
   "id": "3e4f1f58",
   "metadata": {
    "scrolled": false
   },
   "outputs": [
    {
     "name": "stderr",
     "output_type": "stream",
     "text": [
      "100% 10000/10000 [00:01<00:00, 5106.57it/s]\n"
     ]
    }
   ],
   "source": [
    "def batch_predict(np_rgb_imgs):\n",
    "    np_imgs = np.zeros((len(np_rgb_imgs), 1, 28, 28))\n",
    "    for i, np_rgb_img in enumerate(np_rgb_imgs):\n",
    "        np_imgs[i, 0, :, :] = np_rgb_img[:, :, 0]\n",
    "    return model(torch.from_numpy(np_imgs).to(torch.float32)).detach().numpy()\n",
    "\n",
    "\n",
    "imgs, labels = next(iter(dataloaders_dict[\"test\"]))\n",
    "explainer = lime_image.LimeImageExplainer()\n",
    "explanation = explainer.explain_instance(image = imgs[0].squeeze().numpy(),\n",
    "                                         classifier_fn = batch_predict, # classification function\n",
    "                                         top_labels=10,\n",
    "                                         hide_color=0,\n",
    "                                         num_samples=10000) # number of images that will be sent to classification function"
   ]
  }
 ],
 "metadata": {
  "kernelspec": {
   "display_name": "Python 3 (ipykernel)",
   "language": "python",
   "name": "python3"
  },
  "language_info": {
   "codemirror_mode": {
    "name": "ipython",
    "version": 3
   },
   "file_extension": ".py",
   "mimetype": "text/x-python",
   "name": "python",
   "nbconvert_exporter": "python",
   "pygments_lexer": "ipython3",
   "version": "3.10.5"
  }
 },
 "nbformat": 4,
 "nbformat_minor": 5
}
